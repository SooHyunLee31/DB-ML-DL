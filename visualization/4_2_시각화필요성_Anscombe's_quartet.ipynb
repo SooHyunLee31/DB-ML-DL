{
 "cells": [
  {
   "cell_type": "markdown",
   "id": "a2ed3f5d",
   "metadata": {},
   "source": [
    "## 시각화의 중요성 :  앤스컴(Anscombe)의 예\n",
    "\n",
    "\n",
    "### Anscombe's quartet\n",
    "- 평균, 표본분산, 상관, 선형회귀선, 결정계수 등의 기술통계량이 동일하지만 분포나 그래프를 이용하여 시각화하면 전혀 다른 4개의 데이터 세트"
   ]
  },
  {
   "cell_type": "code",
   "execution_count": 1,
   "id": "6d265f72-8b3c-4a70-a3a5-5cc35f31fc0b",
   "metadata": {},
   "outputs": [
    {
     "data": {
      "text/plain": [
       "'%.3f'"
      ]
     },
     "execution_count": 1,
     "metadata": {},
     "output_type": "execute_result"
    }
   ],
   "source": [
    "import numpy as np\n",
    "import pandas as pd\n",
    "import matplotlib.pyplot as plt\n",
    "\n",
    "%precision 3"
   ]
  },
  {
   "cell_type": "code",
   "execution_count": 2,
   "id": "4cdcf4a0-32d7-4475-b5d1-bde93385c655",
   "metadata": {},
   "outputs": [
    {
     "data": {
      "text/plain": [
       "(4, 11, 2)"
      ]
     },
     "execution_count": 2,
     "metadata": {},
     "output_type": "execute_result"
    }
   ],
   "source": [
    "data = np.load('data/anscombe.npy')\n",
    "data.shape"
   ]
  },
  {
   "cell_type": "code",
   "execution_count": 3,
   "id": "33c42a4f-9d08-425f-83fc-d1ae141497c0",
   "metadata": {
    "scrolled": true
   },
   "outputs": [
    {
     "data": {
      "text/plain": [
       "array([[[10.  ,  8.04],\n",
       "        [ 8.  ,  6.95],\n",
       "        [13.  ,  7.58],\n",
       "        [ 9.  ,  8.81],\n",
       "        [11.  ,  8.33],\n",
       "        [14.  ,  9.96],\n",
       "        [ 6.  ,  7.24],\n",
       "        [ 4.  ,  4.26],\n",
       "        [12.  , 10.84],\n",
       "        [ 7.  ,  4.82],\n",
       "        [ 5.  ,  5.68]],\n",
       "\n",
       "       [[10.  ,  9.14],\n",
       "        [ 8.  ,  8.14],\n",
       "        [13.  ,  8.74],\n",
       "        [ 9.  ,  8.77],\n",
       "        [11.  ,  9.26],\n",
       "        [14.  ,  8.1 ],\n",
       "        [ 6.  ,  6.13],\n",
       "        [ 4.  ,  3.1 ],\n",
       "        [12.  ,  9.13],\n",
       "        [ 7.  ,  7.26],\n",
       "        [ 5.  ,  4.74]],\n",
       "\n",
       "       [[10.  ,  7.46],\n",
       "        [ 8.  ,  6.77],\n",
       "        [13.  , 12.74],\n",
       "        [ 9.  ,  7.11],\n",
       "        [11.  ,  7.81],\n",
       "        [14.  ,  8.84],\n",
       "        [ 6.  ,  6.08],\n",
       "        [ 4.  ,  5.39],\n",
       "        [12.  ,  8.15],\n",
       "        [ 7.  ,  6.42],\n",
       "        [ 5.  ,  5.73]],\n",
       "\n",
       "       [[ 8.  ,  6.58],\n",
       "        [ 8.  ,  5.76],\n",
       "        [ 8.  ,  7.71],\n",
       "        [ 8.  ,  8.84],\n",
       "        [ 8.  ,  8.47],\n",
       "        [ 8.  ,  7.04],\n",
       "        [ 8.  ,  5.25],\n",
       "        [19.  , 12.5 ],\n",
       "        [ 8.  ,  5.56],\n",
       "        [ 8.  ,  7.91],\n",
       "        [ 8.  ,  6.89]]])"
      ]
     },
     "execution_count": 3,
     "metadata": {},
     "output_type": "execute_result"
    }
   ],
   "source": [
    "data"
   ]
  },
  {
   "cell_type": "code",
   "execution_count": 4,
   "id": "775bab8e-2b14-4691-b6d9-f9084a0bf49f",
   "metadata": {},
   "outputs": [
    {
     "data": {
      "text/html": [
       "<div>\n",
       "<style scoped>\n",
       "    .dataframe tbody tr th:only-of-type {\n",
       "        vertical-align: middle;\n",
       "    }\n",
       "\n",
       "    .dataframe tbody tr th {\n",
       "        vertical-align: top;\n",
       "    }\n",
       "\n",
       "    .dataframe thead th {\n",
       "        text-align: right;\n",
       "    }\n",
       "</style>\n",
       "<table border=\"1\" class=\"dataframe\">\n",
       "  <thead>\n",
       "    <tr style=\"text-align: right;\">\n",
       "      <th></th>\n",
       "    </tr>\n",
       "  </thead>\n",
       "  <tbody>\n",
       "    <tr>\n",
       "      <th>X_mean</th>\n",
       "    </tr>\n",
       "    <tr>\n",
       "      <th>X_var</th>\n",
       "    </tr>\n",
       "    <tr>\n",
       "      <th>y_mean</th>\n",
       "    </tr>\n",
       "    <tr>\n",
       "      <th>y_var</th>\n",
       "    </tr>\n",
       "    <tr>\n",
       "      <th>Xy_Corr</th>\n",
       "    </tr>\n",
       "    <tr>\n",
       "      <th>Xy_reg_fit</th>\n",
       "    </tr>\n",
       "  </tbody>\n",
       "</table>\n",
       "</div>"
      ],
      "text/plain": [
       "Empty DataFrame\n",
       "Columns: []\n",
       "Index: [X_mean, X_var, y_mean, y_var, Xy_Corr, Xy_reg_fit]"
      ]
     },
     "execution_count": 4,
     "metadata": {},
     "output_type": "execute_result"
    }
   ],
   "source": [
    "stat_df = pd.DataFrame(index=['X_mean', 'X_var','y_mean','y_var','Xy_Corr','Xy_reg_fit'])\n",
    "stat_df"
   ]
  },
  {
   "cell_type": "markdown",
   "id": "555e6b2e",
   "metadata": {},
   "source": [
    "#### np.polyfit(x, y, deg, rcond=None, full=False, w=None, cov=False)\n",
    "\n",
    "Least squares polynomial fit."
   ]
  },
  {
   "cell_type": "markdown",
   "id": "70f462df",
   "metadata": {},
   "source": [
    "- np.mean(x)\n",
    "- np.var(x)\n",
    "- np.mean(y)\n",
    "- np.var(y)\n",
    "- np.corrcoef(x,y)[0,1]\n",
    "- np.polyfit(x,y,1)  # y=ax^+b를 위한 [a, b]"
   ]
  },
  {
   "cell_type": "code",
   "execution_count": 5,
   "id": "1e757dfb",
   "metadata": {},
   "outputs": [],
   "source": [
    "for i, d in enumerate(data):\n",
    "    x = d[:,0]\n",
    "    y = d[:,1]\n",
    "    poly_fit = np.polyfit(x,y,1)\n",
    "    stat_df[f'd{i+1}'] = [f'{np.mean(x):.2f}', f'{np.var(x):.2f}',\n",
    "                          f'{np.mean(y):.2f}', f'{np.var(y):.2f}',\n",
    "                          f'{np.corrcoef(x,y)[0,1]:.2f}',\n",
    "                          f'{poly_fit[0]:.2f}x + {poly_fit[1]:.2f}' ]"
   ]
  },
  {
   "cell_type": "code",
   "execution_count": 6,
   "id": "8808ead2-cc13-4b05-9651-5cac58e25bab",
   "metadata": {},
   "outputs": [
    {
     "data": {
      "text/html": [
       "<div>\n",
       "<style scoped>\n",
       "    .dataframe tbody tr th:only-of-type {\n",
       "        vertical-align: middle;\n",
       "    }\n",
       "\n",
       "    .dataframe tbody tr th {\n",
       "        vertical-align: top;\n",
       "    }\n",
       "\n",
       "    .dataframe thead th {\n",
       "        text-align: right;\n",
       "    }\n",
       "</style>\n",
       "<table border=\"1\" class=\"dataframe\">\n",
       "  <thead>\n",
       "    <tr style=\"text-align: right;\">\n",
       "      <th></th>\n",
       "      <th>d1</th>\n",
       "      <th>d2</th>\n",
       "      <th>d3</th>\n",
       "      <th>d4</th>\n",
       "    </tr>\n",
       "  </thead>\n",
       "  <tbody>\n",
       "    <tr>\n",
       "      <th>X_mean</th>\n",
       "      <td>9.00</td>\n",
       "      <td>9.00</td>\n",
       "      <td>9.00</td>\n",
       "      <td>9.00</td>\n",
       "    </tr>\n",
       "    <tr>\n",
       "      <th>X_var</th>\n",
       "      <td>10.00</td>\n",
       "      <td>10.00</td>\n",
       "      <td>10.00</td>\n",
       "      <td>10.00</td>\n",
       "    </tr>\n",
       "    <tr>\n",
       "      <th>y_mean</th>\n",
       "      <td>7.50</td>\n",
       "      <td>7.50</td>\n",
       "      <td>7.50</td>\n",
       "      <td>7.50</td>\n",
       "    </tr>\n",
       "    <tr>\n",
       "      <th>y_var</th>\n",
       "      <td>3.75</td>\n",
       "      <td>3.75</td>\n",
       "      <td>3.75</td>\n",
       "      <td>3.75</td>\n",
       "    </tr>\n",
       "    <tr>\n",
       "      <th>Xy_Corr</th>\n",
       "      <td>0.82</td>\n",
       "      <td>0.82</td>\n",
       "      <td>0.82</td>\n",
       "      <td>0.82</td>\n",
       "    </tr>\n",
       "    <tr>\n",
       "      <th>Xy_reg_fit</th>\n",
       "      <td>0.50x + 3.00</td>\n",
       "      <td>0.50x + 3.00</td>\n",
       "      <td>0.50x + 3.00</td>\n",
       "      <td>0.50x + 3.00</td>\n",
       "    </tr>\n",
       "  </tbody>\n",
       "</table>\n",
       "</div>"
      ],
      "text/plain": [
       "                      d1            d2            d3            d4\n",
       "X_mean              9.00          9.00          9.00          9.00\n",
       "X_var              10.00         10.00         10.00         10.00\n",
       "y_mean              7.50          7.50          7.50          7.50\n",
       "y_var               3.75          3.75          3.75          3.75\n",
       "Xy_Corr             0.82          0.82          0.82          0.82\n",
       "Xy_reg_fit  0.50x + 3.00  0.50x + 3.00  0.50x + 3.00  0.50x + 3.00"
      ]
     },
     "execution_count": 6,
     "metadata": {},
     "output_type": "execute_result"
    }
   ],
   "source": [
    "stat_df"
   ]
  },
  {
   "cell_type": "markdown",
   "id": "5b5b0824",
   "metadata": {},
   "source": [
    "### 시각화\n",
    "\n",
    "- 네 가지 데이터에 대한 산점도와 회귀직선"
   ]
  },
  {
   "cell_type": "code",
   "execution_count": 7,
   "id": "6c90ddf4",
   "metadata": {},
   "outputs": [
    {
     "data": {
      "image/png": "[encoded data removed]",
      "text/plain": [
       "<Figure size 600x600 with 4 Axes>"
      ]
     },
     "metadata": {},
     "output_type": "display_data"
    }
   ],
   "source": [
    "fig, axs = plt.subplots(nrows=2, ncols=2, figsize=(6,6),\n",
    "                        sharex=True, sharey = True)\n",
    "\n",
    "x = np.linspace(0, 30, 100)\n",
    "for i, d in enumerate(data):\n",
    "    poly_fit = np.polyfit(d[:,0], d[:,1], 1)\n",
    "    poly_1d = np.poly1d(poly_fit)\n",
    "    y = poly_1d(x)\n",
    "    \n",
    "    ax = axs[i//2, i%2]\n",
    "    ax.set_xlim([4, 20])\n",
    "    ax.set_ylim([3, 13])\n",
    "    ax.set_title(f'data{i+1}')\n",
    "    ax.scatter(d[:,0], d[:,1])\n",
    "    ax.plot(x,y, color='gray')\n",
    "    \n",
    "plt.tight_layout()\n",
    "plt.show()"
   ]
  },
  {
   "cell_type": "markdown",
   "id": "3059c6be",
   "metadata": {},
   "source": [
    "=> 기술통계와 분석 결과가 모두 동일한 4개의 데이터에 대하여 시각화를 한 결과, 데이터 분포 모양이 다름을 확인"
   ]
  },
  {
   "cell_type": "markdown",
   "id": "f20c159c",
   "metadata": {},
   "source": [
    "-------"
   ]
  }
 ],
 "metadata": {
  "kernelspec": {
   "display_name": "Python 3 (ipykernel)",
   "language": "python",
   "name": "python3"
  },
  "language_info": {
   "codemirror_mode": {
    "name": "ipython",
    "version": 3
   },
   "file_extension": ".py",
   "mimetype": "text/x-python",
   "name": "python",
   "nbconvert_exporter": "python",
   "pygments_lexer": "ipython3",
   "version": "3.12.9"
  }
 },
 "nbformat": 4,
 "nbformat_minor": 5
}
