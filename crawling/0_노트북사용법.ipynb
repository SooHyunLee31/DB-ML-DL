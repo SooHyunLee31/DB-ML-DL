{
 "cells": [
  {
   "cell_type": "markdown",
   "id": "fca12a8c-c161-47ad-9197-d228fc8a4057",
   "metadata": {},
   "source": [
    "# 노트북 사용법\n",
    "### 셀 종류\n",
    "  - **코드** 셀 : 파이썬 코드 입력 (셀 왼쪽에 [ ]가 붙어있음)\n",
    "  - **마크다운** 셀 : 마크다운 입력\n",
    "  - **raw** 셀 : 프로그램 코드나 텍스트 그대로"
   ]
  },
  {
   "cell_type": "markdown",
   "id": "ba7fb3db-2416-4a68-9f07-e5c575499878",
   "metadata": {},
   "source": [
    "### 모드 전환 단축키\n",
    "- ESC : 편집(코드) 모드에서 명령모드로 전환\n",
    "- enter : 명령모드에서 편집모드로 전환\n",
    "- m : 코드셀에서 마크다운셀로 전환\n",
    "- y : 마크다운셀에서 코드셀로 전환\n",
    "- r : 명령모드 상태에서 코드셀 또는 마크다운셀을 RAW셀로 전환"
   ]
  },
  {
   "cell_type": "markdown",
   "id": "9b8f7e12-929b-421a-8501-c835c3204fb5",
   "metadata": {},
   "source": [
    "### 셀 실행 단축키\n",
    "- ctrl+enter : 현재 셀을 실행 후 현재 셀에 위치\n",
    "- shift+enter : 현재 셀 실행 후 아래 셀로 이동(아래 셀이 없는 경우 새로운 셀 추가하고 그 셀로 이동)\n",
    "- alt+enter : 현재 셀 실행 후 새로운 셀을 아래 추가하고 그 셀로 이동"
   ]
  },
  {
   "cell_type": "markdown",
   "id": "337e1a45-3f66-4009-b95d-0f301e469ab0",
   "metadata": {},
   "source": [
    "### 단축기 사용 방법\n",
    ": 단축기는 편집모드에서 사용하는 키와 명령모드에서 사용하는 키가 다를 수 있음\n",
    "\n",
    "### 셀 모드\n",
    "- 편집모드\n",
    "- 명령모드"
   ]
  },
  {
   "cell_type": "markdown",
   "id": "8c1dc5b6-930d-413b-bba3-a8f6a0656ddc",
   "metadata": {},
   "source": [
    "#### **편집**모드에서는 사용하는 단축키\n",
    "- ctrl+z : 실행취소\n",
    "- ctrl+y : 다시 실행\n",
    "- ctrl+/ : 코드셀에서 주석으로 변경 (토글 기능이므로 다시 실행할 때 코드로 변경)\n",
    "- ctrl+a : 현재 셀 전체 선택\n",
    "- shift+tap : 들여쓰기 취소(이전 탭으로 이동)\n",
    "- tap : 탭만큼 들여쓰기"
   ]
  },
  {
   "cell_type": "markdown",
   "id": "2c7ad75e-5aba-4335-86dd-bc10daabfa9b",
   "metadata": {},
   "source": [
    "#### **명령**모드에서 사용하는 단축키\n",
    "- dd : 명령모드 상태에서 현재(선택된) 셀 삭제\n",
    "- a : 명령모드 상태에서 현재 셀 위에 셀 추가\n",
    "- b : 명령모드 상태에서 현재 셀 아래에 셀 추가\n",
    "- ctrl+shift+- : 커서위치에서 셀 두개 나누기\n",
    "- ctrl+shift+m : 선택된 셀들을 하나의 셀로 합치기\n",
    "- ctrl+shift+방향키(상하) : 선택된 셀(들)을 위 아래로 이동\n",
    "- shift+마우스클릭 : 셀 선택"
   ]
  },
  {
   "cell_type": "markdown",
   "id": "cb9575d7-269e-49dc-bf65-3d432ff44057",
   "metadata": {},
   "source": [
    "---"
   ]
  },
  {
   "cell_type": "markdown",
   "id": "9b2413b0-6d93-4cbe-b449-1bb646511339",
   "metadata": {},
   "source": [
    "코드셀은 실행된 순서대로 적용(실행된 순서에 따라 변수나 함수 적용)"
   ]
  },
  {
   "cell_type": "code",
   "execution_count": 4,
   "id": "08c6ac85-7eab-41b3-8531-5f4482ff78f4",
   "metadata": {},
   "outputs": [
    {
     "name": "stdout",
     "output_type": "stream",
     "text": [
      "노트북\n"
     ]
    }
   ],
   "source": [
    "print('노트북')"
   ]
  }
 ],
 "metadata": {
  "kernelspec": {
   "display_name": "Python 3 (ipykernel)",
   "language": "python",
   "name": "python3"
  },
  "language_info": {
   "codemirror_mode": {
    "name": "ipython",
    "version": 3
   },
   "file_extension": ".py",
   "mimetype": "text/x-python",
   "name": "python",
   "nbconvert_exporter": "python",
   "pygments_lexer": "ipython3",
   "version": "3.12.9"
  }
 },
 "nbformat": 4,
 "nbformat_minor": 5
}
