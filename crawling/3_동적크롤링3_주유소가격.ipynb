{
 "cells": [
  {
   "cell_type": "markdown",
   "metadata": {},
   "source": [
    "## Selenium이용한 동적 크롤링 실습 : 주유소 가격 수집"
   ]
  },
  {
   "cell_type": "code",
   "execution_count": 1,
   "metadata": {},
   "outputs": [],
   "source": [
    "import pandas as pd\n",
    "from bs4 import BeautifulSoup"
   ]
  },
  {
   "cell_type": "code",
   "execution_count": 2,
   "metadata": {},
   "outputs": [],
   "source": [
    "from selenium import webdriver\n",
    "from selenium.webdriver.common.by import By\n",
    "from selenium.webdriver.chrome.service import Service\n",
    "from webdriver_manager.chrome import ChromeDriverManager"
   ]
  },
  {
   "cell_type": "code",
   "execution_count": 4,
   "metadata": {},
   "outputs": [],
   "source": [
    "service = Service(executable_path=ChromeDriverManager().install())"
   ]
  },
  {
   "cell_type": "markdown",
   "metadata": {},
   "source": [
    "## 싼 주유소 찾기 Opinet\n",
    "\n",
    "- https://www.opinet.co.kr/user/main/mainView.do"
   ]
  },
  {
   "cell_type": "markdown",
   "metadata": {},
   "source": [
    "### 서울시 구별 주유소 가격 정도 얻어오기\n",
    "\n",
    "- 사이트에서 [싼주유소찾기] > [지역별] 메뉴 선택\n",
    "- 지역은 '서울' > 원하는 구 지정\n",
    "    - '시/군/구'를 선택하는 select option의 XPath 찾기\n",
    "\n",
    "- '조회'버튼 클릭\n",
    "- 조회된 주유소 정보 '엑셀저장' 버튼 클릭하여 엑셀파일 다운로드"
   ]
  },
  {
   "cell_type": "markdown",
   "metadata": {},
   "source": [
    "#### 크롬 드라이버 객체 생성"
   ]
  },
  {
   "cell_type": "code",
   "execution_count": 153,
   "metadata": {},
   "outputs": [],
   "source": [
    "driver = webdriver.Chrome(service=service)"
   ]
  },
  {
   "cell_type": "markdown",
   "metadata": {},
   "source": [
    "#### 웹페이지 로드"
   ]
  },
  {
   "cell_type": "code",
   "execution_count": 148,
   "metadata": {},
   "outputs": [],
   "source": [
    "url = 'https://www.opinet.co.kr/user/main/mainView.do'\n",
    "driver.get(url)"
   ]
  },
  {
   "cell_type": "code",
   "execution_count": 7,
   "metadata": {},
   "outputs": [],
   "source": [
    "driver.implicitly_wait(3)"
   ]
  },
  {
   "cell_type": "markdown",
   "metadata": {},
   "source": [
    "#### [싼주유소찾기]-[지역] 페이지로 이동\n",
    "\n",
    "- 자바스트립트 코드 실행으로 통해서 이동"
   ]
  },
  {
   "cell_type": "code",
   "execution_count": 149,
   "metadata": {},
   "outputs": [],
   "source": [
    "driver.execute_script('goSubPage(0,0,99);')"
   ]
  },
  {
   "cell_type": "markdown",
   "metadata": {},
   "source": [
    "#### 시도 이름 찾기"
   ]
  },
  {
   "cell_type": "code",
   "execution_count": 12,
   "metadata": {},
   "outputs": [
    {
     "data": {
      "text/plain": [
       "['',\n",
       " '서울특별시',\n",
       " '부산광역시',\n",
       " '대구광역시',\n",
       " '인천광역시',\n",
       " '광주광역시',\n",
       " '대전광역시',\n",
       " '울산광역시',\n",
       " '세종특별자치시',\n",
       " '경기도',\n",
       " '강원특별자치도',\n",
       " '충청북도',\n",
       " '충청남도',\n",
       " '전북특별자치도',\n",
       " '전라남도',\n",
       " '경상북도',\n",
       " '경상남도',\n",
       " '제주특별자치도']"
      ]
     },
     "execution_count": 12,
     "metadata": {},
     "output_type": "execute_result"
    }
   ],
   "source": [
    "# 시도 이름목록 select element\n",
    "xpath = '//*[@id=\"SIDO_NM0\"]'\n",
    "sidoList = driver.find_element(By.XPATH, xpath)\n",
    "sidoOpt = sidoList.find_elements(By.TAG_NAME, 'option')\n",
    "sidoNames = [opt.get_attribute('value') for opt in sidoOpt]\n",
    "sidoNames"
   ]
  },
  {
   "cell_type": "markdown",
   "metadata": {},
   "source": [
    "#### 서울시 선택"
   ]
  },
  {
   "cell_type": "code",
   "execution_count": 150,
   "metadata": {},
   "outputs": [],
   "source": [
    "sido_elem = driver.find_element(By.ID, 'SIDO_NM0')\n",
    "sido_elem.send_keys('서울특별시')"
   ]
  },
  {
   "cell_type": "markdown",
   "metadata": {},
   "source": [
    "#### 구 이름 찾기"
   ]
  },
  {
   "cell_type": "code",
   "execution_count": 128,
   "metadata": {},
   "outputs": [
    {
     "data": {
      "text/plain": [
       "['',\n",
       " '강남구',\n",
       " '강동구',\n",
       " '강북구',\n",
       " '강서구',\n",
       " '관악구',\n",
       " '광진구',\n",
       " '구로구',\n",
       " '금천구',\n",
       " '노원구',\n",
       " '도봉구',\n",
       " '동대문구',\n",
       " '동작구',\n",
       " '마포구',\n",
       " '서대문구',\n",
       " '서초구',\n",
       " '성동구',\n",
       " '성북구',\n",
       " '송파구',\n",
       " '양천구',\n",
       " '영등포구',\n",
       " '용산구',\n",
       " '은평구',\n",
       " '종로구',\n",
       " '중구',\n",
       " '중랑구']"
      ]
     },
     "execution_count": 128,
     "metadata": {},
     "output_type": "execute_result"
    }
   ],
   "source": [
    "xpath = '//*[@id=\"SIGUNGU_NM0\"]'\n",
    "sigunguList = driver.find_element(By.XPATH, xpath)\n",
    "sigunguOpt = sigunguList.find_elements(By.TAG_NAME, 'option')\n",
    "sigunguNames = [opt.get_attribute('value') for opt in sigunguOpt]\n",
    "sigunguNames"
   ]
  },
  {
   "cell_type": "markdown",
   "metadata": {},
   "source": [
    "#### '강남구' 주유소 지정"
   ]
  },
  {
   "cell_type": "code",
   "execution_count": 24,
   "metadata": {},
   "outputs": [],
   "source": [
    "sigungu_elem = driver.find_element(By.ID, 'SIGUNGU_NM0')\n",
    "sigungu_elem.send_keys('강남구')"
   ]
  },
  {
   "cell_type": "markdown",
   "metadata": {},
   "source": [
    "#### '조회' 버튼 클릭"
   ]
  },
  {
   "cell_type": "code",
   "execution_count": 26,
   "metadata": {},
   "outputs": [],
   "source": [
    "xpath = '//*[@id=\"searRgSelect\"]'\n",
    "driver.find_element(By.XPATH, xpath).click()"
   ]
  },
  {
   "cell_type": "markdown",
   "metadata": {},
   "source": [
    "#### 조회된 주유소 '엑셀저장' 버튼 클릭"
   ]
  },
  {
   "cell_type": "code",
   "execution_count": 27,
   "metadata": {},
   "outputs": [],
   "source": [
    "xpath = '//*[@id=\"templ_list0\"]/div[7]/div/a'\n",
    "driver.find_element(By.XPATH, xpath).click()"
   ]
  },
  {
   "cell_type": "markdown",
   "metadata": {},
   "source": [
    "=> '지역_위치별(주유소).xls'파일 다운로드 폴더에 저장됨"
   ]
  },
  {
   "cell_type": "markdown",
   "metadata": {},
   "source": [
    "### 25개 구 주유소 엑셀파일 다운로드\n",
    "\n",
    "- 함수로 작성하여 실행"
   ]
  },
  {
   "cell_type": "code",
   "execution_count": 79,
   "metadata": {},
   "outputs": [],
   "source": [
    "# 함수 임포트\n",
    "import pandas as pd\n",
    "from bs4 import BeautifulSoup\n",
    "from selenium import webdriver\n",
    "from selenium.webdriver.common.by import By\n",
    "from selenium.webdriver.chrome.service import Service\n",
    "from webdriver_manager.chrome import ChromeDriverManager\n",
    "import time"
   ]
  },
  {
   "cell_type": "code",
   "execution_count": 189,
   "metadata": {},
   "outputs": [],
   "source": [
    "driver = webdriver.Chrome(service=service)\n",
    "url = 'https://www.opinet.co.kr/user/main/mainView.do'\n",
    "driver.get(url)\n",
    "driver.implicitly_wait(3)\n",
    "time.sleep(2)\n",
    "driver.execute_script('goSubPage(0,0,99);')"
   ]
  },
  {
   "cell_type": "code",
   "execution_count": 172,
   "metadata": {},
   "outputs": [],
   "source": [
    " # 서울의 각 구의 싼 주유소 엑셀 저장 함수\n",
    "def search_download_Gungu(city):\n",
    "    sido_elem = driver.find_element(By.ID, 'SIDO_NM0')\n",
    "    sido_elem.send_keys(city)\n",
    "    time.sleep(2)\n",
    "    xpath = '//*[@id=\"SIGUNGU_NM0\"]'\n",
    "    sigunguList = driver.find_element(By.XPATH, xpath)\n",
    "    sigunguOpt = sigunguList.find_elements(By.TAG_NAME, 'option')\n",
    "    sigunguNames = [opt.get_attribute('value') for opt in sigunguOpt]\n",
    "\n",
    "    for n in sigunguNames[1:]:\n",
    "        sigungu_elem = driver.find_element(By.ID, 'SIGUNGU_NM0')\n",
    "        sigungu_elem.send_keys(n)\n",
    "        time.sleep(2)\n",
    "        xpath = '//*[@id=\"searRgSelect\"]'\n",
    "        driver.find_element(By.XPATH, xpath).click()\n",
    "        time.sleep(2)\n",
    "        xpath = '//*[@id=\"templ_list0\"]/div[7]/div/a'\n",
    "        driver.find_element(By.XPATH, xpath).click()\n",
    "        time.sleep(2)"
   ]
  },
  {
   "cell_type": "code",
   "execution_count": 190,
   "metadata": {
    "scrolled": true
   },
   "outputs": [
    {
     "ename": "InvalidSessionIdException",
     "evalue": "Message: invalid session id: session deleted as the browser has closed the connection\nfrom disconnected: not connected to DevTools\n  (Session info: chrome=134.0.6998.167)\nStacktrace:\n\tGetHandleVerifier [0x00A3C7F3+24435]\n\t(No symbol) [0x009C2074]\n\t(No symbol) [0x008906E3]\n\t(No symbol) [0x0087FEC0]\n\t(No symbol) [0x0089DFDF]\n\t(No symbol) [0x009046AF]\n\t(No symbol) [0x0091EB19]\n\t(No symbol) [0x008FD5B6]\n\t(No symbol) [0x008CC54F]\n\t(No symbol) [0x008CD894]\n\tGetHandleVerifier [0x00D470A3+3213347]\n\tGetHandleVerifier [0x00D5B0C9+3295305]\n\tGetHandleVerifier [0x00D5558C+3271948]\n\tGetHandleVerifier [0x00AD7360+658144]\n\t(No symbol) [0x009CB27D]\n\t(No symbol) [0x009C8208]\n\t(No symbol) [0x009C83A9]\n\t(No symbol) [0x009BAAC0]\n\tBaseThreadInitThunk [0x75057BA9+25]\n\tRtlInitializeExceptionChain [0x76F0C2EB+107]\n\tRtlClearBits [0x76F0C26F+191]\n",
     "output_type": "error",
     "traceback": [
      "\u001b[1;31m---------------------------------------------------------------------------\u001b[0m",
      "\u001b[1;31mInvalidSessionIdException\u001b[0m                 Traceback (most recent call last)",
      "Cell \u001b[1;32mIn[190], line 2\u001b[0m\n\u001b[0;32m      1\u001b[0m \u001b[38;5;66;03m# from tqdm import tqdm\u001b[39;00m\n\u001b[1;32m----> 2\u001b[0m search_download_Gungu(\u001b[38;5;124m'\u001b[39m\u001b[38;5;124m서울특별시\u001b[39m\u001b[38;5;124m'\u001b[39m)\n",
      "Cell \u001b[1;32mIn[172], line 19\u001b[0m, in \u001b[0;36msearch_download_Gungu\u001b[1;34m(city)\u001b[0m\n\u001b[0;32m     17\u001b[0m time\u001b[38;5;241m.\u001b[39msleep(\u001b[38;5;241m2\u001b[39m)\n\u001b[0;32m     18\u001b[0m xpath \u001b[38;5;241m=\u001b[39m \u001b[38;5;124m'\u001b[39m\u001b[38;5;124m//*[@id=\u001b[39m\u001b[38;5;124m\"\u001b[39m\u001b[38;5;124mtempl_list0\u001b[39m\u001b[38;5;124m\"\u001b[39m\u001b[38;5;124m]/div[7]/div/a\u001b[39m\u001b[38;5;124m'\u001b[39m\n\u001b[1;32m---> 19\u001b[0m driver\u001b[38;5;241m.\u001b[39mfind_element(By\u001b[38;5;241m.\u001b[39mXPATH, xpath)\u001b[38;5;241m.\u001b[39mclick()\n\u001b[0;32m     20\u001b[0m time\u001b[38;5;241m.\u001b[39msleep(\u001b[38;5;241m2\u001b[39m)\n",
      "File \u001b[1;32m~\\miniconda3\\Lib\\site-packages\\selenium\\webdriver\\remote\\webdriver.py:898\u001b[0m, in \u001b[0;36mWebDriver.find_element\u001b[1;34m(self, by, value)\u001b[0m\n\u001b[0;32m    895\u001b[0m         \u001b[38;5;28;01mraise\u001b[39;00m NoSuchElementException(\u001b[38;5;124mf\u001b[39m\u001b[38;5;124m\"\u001b[39m\u001b[38;5;124mCannot locate relative element with: \u001b[39m\u001b[38;5;132;01m{\u001b[39;00mby\u001b[38;5;241m.\u001b[39mroot\u001b[38;5;132;01m}\u001b[39;00m\u001b[38;5;124m\"\u001b[39m)\n\u001b[0;32m    896\u001b[0m     \u001b[38;5;28;01mreturn\u001b[39;00m elements[\u001b[38;5;241m0\u001b[39m]\n\u001b[1;32m--> 898\u001b[0m \u001b[38;5;28;01mreturn\u001b[39;00m \u001b[38;5;28mself\u001b[39m\u001b[38;5;241m.\u001b[39mexecute(Command\u001b[38;5;241m.\u001b[39mFIND_ELEMENT, {\u001b[38;5;124m\"\u001b[39m\u001b[38;5;124musing\u001b[39m\u001b[38;5;124m\"\u001b[39m: by, \u001b[38;5;124m\"\u001b[39m\u001b[38;5;124mvalue\u001b[39m\u001b[38;5;124m\"\u001b[39m: value})[\u001b[38;5;124m\"\u001b[39m\u001b[38;5;124mvalue\u001b[39m\u001b[38;5;124m\"\u001b[39m]\n",
      "File \u001b[1;32m~\\miniconda3\\Lib\\site-packages\\selenium\\webdriver\\remote\\webdriver.py:429\u001b[0m, in \u001b[0;36mWebDriver.execute\u001b[1;34m(self, driver_command, params)\u001b[0m\n\u001b[0;32m    427\u001b[0m response \u001b[38;5;241m=\u001b[39m \u001b[38;5;28mself\u001b[39m\u001b[38;5;241m.\u001b[39mcommand_executor\u001b[38;5;241m.\u001b[39mexecute(driver_command, params)\n\u001b[0;32m    428\u001b[0m \u001b[38;5;28;01mif\u001b[39;00m response:\n\u001b[1;32m--> 429\u001b[0m     \u001b[38;5;28mself\u001b[39m\u001b[38;5;241m.\u001b[39merror_handler\u001b[38;5;241m.\u001b[39mcheck_response(response)\n\u001b[0;32m    430\u001b[0m     response[\u001b[38;5;124m\"\u001b[39m\u001b[38;5;124mvalue\u001b[39m\u001b[38;5;124m\"\u001b[39m] \u001b[38;5;241m=\u001b[39m \u001b[38;5;28mself\u001b[39m\u001b[38;5;241m.\u001b[39m_unwrap_value(response\u001b[38;5;241m.\u001b[39mget(\u001b[38;5;124m\"\u001b[39m\u001b[38;5;124mvalue\u001b[39m\u001b[38;5;124m\"\u001b[39m, \u001b[38;5;28;01mNone\u001b[39;00m))\n\u001b[0;32m    431\u001b[0m     \u001b[38;5;28;01mreturn\u001b[39;00m response\n",
      "File \u001b[1;32m~\\miniconda3\\Lib\\site-packages\\selenium\\webdriver\\remote\\errorhandler.py:232\u001b[0m, in \u001b[0;36mErrorHandler.check_response\u001b[1;34m(self, response)\u001b[0m\n\u001b[0;32m    230\u001b[0m         alert_text \u001b[38;5;241m=\u001b[39m value[\u001b[38;5;124m\"\u001b[39m\u001b[38;5;124malert\u001b[39m\u001b[38;5;124m\"\u001b[39m]\u001b[38;5;241m.\u001b[39mget(\u001b[38;5;124m\"\u001b[39m\u001b[38;5;124mtext\u001b[39m\u001b[38;5;124m\"\u001b[39m)\n\u001b[0;32m    231\u001b[0m     \u001b[38;5;28;01mraise\u001b[39;00m exception_class(message, screen, stacktrace, alert_text)  \u001b[38;5;66;03m# type: ignore[call-arg]  # mypy is not smart enough here\u001b[39;00m\n\u001b[1;32m--> 232\u001b[0m \u001b[38;5;28;01mraise\u001b[39;00m exception_class(message, screen, stacktrace)\n",
      "\u001b[1;31mInvalidSessionIdException\u001b[0m: Message: invalid session id: session deleted as the browser has closed the connection\nfrom disconnected: not connected to DevTools\n  (Session info: chrome=134.0.6998.167)\nStacktrace:\n\tGetHandleVerifier [0x00A3C7F3+24435]\n\t(No symbol) [0x009C2074]\n\t(No symbol) [0x008906E3]\n\t(No symbol) [0x0087FEC0]\n\t(No symbol) [0x0089DFDF]\n\t(No symbol) [0x009046AF]\n\t(No symbol) [0x0091EB19]\n\t(No symbol) [0x008FD5B6]\n\t(No symbol) [0x008CC54F]\n\t(No symbol) [0x008CD894]\n\tGetHandleVerifier [0x00D470A3+3213347]\n\tGetHandleVerifier [0x00D5B0C9+3295305]\n\tGetHandleVerifier [0x00D5558C+3271948]\n\tGetHandleVerifier [0x00AD7360+658144]\n\t(No symbol) [0x009CB27D]\n\t(No symbol) [0x009C8208]\n\t(No symbol) [0x009C83A9]\n\t(No symbol) [0x009BAAC0]\n\tBaseThreadInitThunk [0x75057BA9+25]\n\tRtlInitializeExceptionChain [0x76F0C2EB+107]\n\tRtlClearBits [0x76F0C26F+191]\n"
     ]
    }
   ],
   "source": [
    "# from tqdm import tqdm\n",
    "search_download_Gungu('서울특별시')"
   ]
  },
  {
   "cell_type": "markdown",
   "metadata": {},
   "source": [
    "from tqdm import tqdm\n",
    "    for n in sigunguNames[1:]:\n",
    "        sigungu_elem = driver.find_element(By.ID, 'SIGUNGU_NM0')\n",
    "        sigungu_elem.send_keys(n)\n",
    "        time.sleep(2)\n",
    "        xpath = '//*[@id=\"searRgSelect\"]'\n",
    "        driver.find_element(By.XPATH, xpath).click()\n",
    "        time.sleep(2)\n",
    "        xpath = '//*[@id=\"templ_list0\"]/div[7]/div/a'\n",
    "        driver.find_element(By.XPATH, xpath).click()\n",
    "        time.sleep(2)"
   ]
  },
  {
   "cell_type": "markdown",
   "metadata": {},
   "source": [
    "### 엑셀파일 읽어오기"
   ]
  },
  {
   "cell_type": "code",
   "execution_count": 198,
   "metadata": {},
   "outputs": [],
   "source": [
    "from glob import glob\n",
    "# glob함수 : 파일경로 및 이름을 모아서 리스트로 저장"
   ]
  },
  {
   "cell_type": "code",
   "execution_count": 199,
   "metadata": {},
   "outputs": [
    {
     "data": {
      "text/plain": [
       "'D:\\\\workspaces\\\\04_crawling'"
      ]
     },
     "execution_count": 199,
     "metadata": {},
     "output_type": "execute_result"
    }
   ],
   "source": [
    "import os\n",
    "path = os.getcwd() # 현재 작업 디렉토리 경로\n",
    "path"
   ]
  },
  {
   "cell_type": "code",
   "execution_count": 200,
   "metadata": {},
   "outputs": [
    {
     "data": {
      "text/plain": [
       "['C:/Users/acorn1/Downloads\\\\지역_위치별(주유소) (1).xls',\n",
       " 'C:/Users/acorn1/Downloads\\\\지역_위치별(주유소) (2).xls',\n",
       " 'C:/Users/acorn1/Downloads\\\\지역_위치별(주유소) (3).xls',\n",
       " 'C:/Users/acorn1/Downloads\\\\지역_위치별(주유소) (4).xls',\n",
       " 'C:/Users/acorn1/Downloads\\\\지역_위치별(주유소) (5).xls',\n",
       " 'C:/Users/acorn1/Downloads\\\\지역_위치별(주유소) (6).xls',\n",
       " 'C:/Users/acorn1/Downloads\\\\지역_위치별(주유소).xls']"
      ]
     },
     "execution_count": 200,
     "metadata": {},
     "output_type": "execute_result"
    }
   ],
   "source": [
    "# 엑셀파일 저장 경로\n",
    "path = 'C:/Users/acorn1/Downloads/'\n",
    "filename = '지역_위치별*.xls'\n",
    "filePathList = glob(path + filename)\n",
    "filePathList"
   ]
  },
  {
   "cell_type": "code",
   "execution_count": 181,
   "metadata": {},
   "outputs": [
    {
     "name": "stdout",
     "output_type": "stream",
     "text": [
      "Collecting xlrd\n",
      "  Downloading xlrd-2.0.1-py2.py3-none-any.whl.metadata (3.4 kB)\n",
      "Downloading xlrd-2.0.1-py2.py3-none-any.whl (96 kB)\n",
      "Installing collected packages: xlrd\n",
      "Successfully installed xlrd-2.0.1\n"
     ]
    }
   ],
   "source": [
    "!pip install xlrd"
   ]
  },
  {
   "cell_type": "code",
   "execution_count": 201,
   "metadata": {},
   "outputs": [
    {
     "data": {
      "text/html": [
       "<div>\n",
       "<style scoped>\n",
       "    .dataframe tbody tr th:only-of-type {\n",
       "        vertical-align: middle;\n",
       "    }\n",
       "\n",
       "    .dataframe tbody tr th {\n",
       "        vertical-align: top;\n",
       "    }\n",
       "\n",
       "    .dataframe thead th {\n",
       "        text-align: right;\n",
       "    }\n",
       "</style>\n",
       "<table border=\"1\" class=\"dataframe\">\n",
       "  <thead>\n",
       "    <tr style=\"text-align: right;\">\n",
       "      <th></th>\n",
       "      <th>지역</th>\n",
       "      <th>상호</th>\n",
       "      <th>주소</th>\n",
       "      <th>상표</th>\n",
       "      <th>전화번호</th>\n",
       "      <th>셀프여부</th>\n",
       "      <th>고급휘발유</th>\n",
       "      <th>휘발유</th>\n",
       "      <th>경유</th>\n",
       "      <th>실내등유</th>\n",
       "    </tr>\n",
       "  </thead>\n",
       "  <tbody>\n",
       "    <tr>\n",
       "      <th>0</th>\n",
       "      <td>서울특별시</td>\n",
       "      <td>구천면주유소</td>\n",
       "      <td>서울 강동구 구천면로 357 (암사동)</td>\n",
       "      <td>HD현대오일뱅크</td>\n",
       "      <td>02-441-0536</td>\n",
       "      <td>N</td>\n",
       "      <td>-</td>\n",
       "      <td>1643</td>\n",
       "      <td>1527</td>\n",
       "      <td>-</td>\n",
       "    </tr>\n",
       "    <tr>\n",
       "      <th>1</th>\n",
       "      <td>서울특별시</td>\n",
       "      <td>재건에너지 재정제2주유소 고속셀프지점</td>\n",
       "      <td>서울특별시 강동구  천호대로 1246 (둔촌제2동)</td>\n",
       "      <td>HD현대오일뱅크</td>\n",
       "      <td>02-487-2030</td>\n",
       "      <td>Y</td>\n",
       "      <td>-</td>\n",
       "      <td>1645</td>\n",
       "      <td>1529</td>\n",
       "      <td>-</td>\n",
       "    </tr>\n",
       "    <tr>\n",
       "      <th>2</th>\n",
       "      <td>서울특별시</td>\n",
       "      <td>방아다리주유소</td>\n",
       "      <td>서울 강동구 동남로 811 (명일동)</td>\n",
       "      <td>SK에너지</td>\n",
       "      <td>02-442-5145</td>\n",
       "      <td>Y</td>\n",
       "      <td>1855</td>\n",
       "      <td>1655</td>\n",
       "      <td>1535</td>\n",
       "      <td>-</td>\n",
       "    </tr>\n",
       "    <tr>\n",
       "      <th>3</th>\n",
       "      <td>서울특별시</td>\n",
       "      <td>대성석유(주)길동주유소</td>\n",
       "      <td>서울 강동구 천호대로 1168</td>\n",
       "      <td>GS칼텍스</td>\n",
       "      <td>02-474-7222</td>\n",
       "      <td>N</td>\n",
       "      <td>1935</td>\n",
       "      <td>1696</td>\n",
       "      <td>1578</td>\n",
       "      <td>1600</td>\n",
       "    </tr>\n",
       "    <tr>\n",
       "      <th>4</th>\n",
       "      <td>서울특별시</td>\n",
       "      <td>지에스칼텍스㈜ 동서울주유소</td>\n",
       "      <td>서울 강동구 천호대로 1456 (상일동)</td>\n",
       "      <td>GS칼텍스</td>\n",
       "      <td>02-426-5372</td>\n",
       "      <td>Y</td>\n",
       "      <td>1899</td>\n",
       "      <td>1699</td>\n",
       "      <td>1599</td>\n",
       "      <td>-</td>\n",
       "    </tr>\n",
       "    <tr>\n",
       "      <th>5</th>\n",
       "      <td>서울특별시</td>\n",
       "      <td>(주)소모 신월주유소</td>\n",
       "      <td>서울 강동구 양재대로 1323</td>\n",
       "      <td>GS칼텍스</td>\n",
       "      <td>02-6956-6674</td>\n",
       "      <td>Y</td>\n",
       "      <td>1916</td>\n",
       "      <td>1716</td>\n",
       "      <td>1598</td>\n",
       "      <td>1500</td>\n",
       "    </tr>\n",
       "    <tr>\n",
       "      <th>6</th>\n",
       "      <td>서울특별시</td>\n",
       "      <td>(주)삼표에너지 고덕주유소</td>\n",
       "      <td>서울 강동구 고덕로 39 (암사동)</td>\n",
       "      <td>GS칼텍스</td>\n",
       "      <td>02-441-3327</td>\n",
       "      <td>Y</td>\n",
       "      <td>1955</td>\n",
       "      <td>1726</td>\n",
       "      <td>1598</td>\n",
       "      <td>1699</td>\n",
       "    </tr>\n",
       "    <tr>\n",
       "      <th>7</th>\n",
       "      <td>서울특별시</td>\n",
       "      <td>sk해뜨는주유소</td>\n",
       "      <td>서울 강동구  상일로 132 (강일동)</td>\n",
       "      <td>SK에너지</td>\n",
       "      <td>02-442-7801</td>\n",
       "      <td>Y</td>\n",
       "      <td>1999</td>\n",
       "      <td>1789</td>\n",
       "      <td>1639</td>\n",
       "      <td>1600</td>\n",
       "    </tr>\n",
       "    <tr>\n",
       "      <th>8</th>\n",
       "      <td>서울특별시</td>\n",
       "      <td>(주)퍼스트오일 코알라주유소</td>\n",
       "      <td>서울특별시 강동구  올림픽로 556 (성내동)</td>\n",
       "      <td>S-OIL</td>\n",
       "      <td>02-484-1162</td>\n",
       "      <td>Y</td>\n",
       "      <td>1970</td>\n",
       "      <td>1790</td>\n",
       "      <td>1670</td>\n",
       "      <td>-</td>\n",
       "    </tr>\n",
       "    <tr>\n",
       "      <th>9</th>\n",
       "      <td>서울특별시</td>\n",
       "      <td>주)지유에너지직영 오렌지주유소</td>\n",
       "      <td>서울 강동구 성안로 102 (성내동)</td>\n",
       "      <td>SK에너지</td>\n",
       "      <td>02-484-6165</td>\n",
       "      <td>N</td>\n",
       "      <td>1934</td>\n",
       "      <td>1793</td>\n",
       "      <td>1673</td>\n",
       "      <td>-</td>\n",
       "    </tr>\n",
       "    <tr>\n",
       "      <th>10</th>\n",
       "      <td>서울특별시</td>\n",
       "      <td>(주)소모 성내주유소</td>\n",
       "      <td>서울 강동구 올림픽로 578 (성내동)</td>\n",
       "      <td>GS칼텍스</td>\n",
       "      <td>02-479-3838</td>\n",
       "      <td>Y</td>\n",
       "      <td>-</td>\n",
       "      <td>1798</td>\n",
       "      <td>1678</td>\n",
       "      <td>-</td>\n",
       "    </tr>\n",
       "    <tr>\n",
       "      <th>11</th>\n",
       "      <td>서울특별시</td>\n",
       "      <td>천호현대주유소</td>\n",
       "      <td>서울 강동구 천중로 67 (천호동)</td>\n",
       "      <td>HD현대오일뱅크</td>\n",
       "      <td>02-484-9323</td>\n",
       "      <td>N</td>\n",
       "      <td>-</td>\n",
       "      <td>1893</td>\n",
       "      <td>1752</td>\n",
       "      <td>-</td>\n",
       "    </tr>\n",
       "    <tr>\n",
       "      <th>12</th>\n",
       "      <td>서울특별시</td>\n",
       "      <td>광성주유소</td>\n",
       "      <td>서울 강동구 올림픽로 673 (천호동)</td>\n",
       "      <td>S-OIL</td>\n",
       "      <td>02-470-5133</td>\n",
       "      <td>N</td>\n",
       "      <td>-</td>\n",
       "      <td>1968</td>\n",
       "      <td>1858</td>\n",
       "      <td>1800</td>\n",
       "    </tr>\n",
       "  </tbody>\n",
       "</table>\n",
       "</div>"
      ],
      "text/plain": [
       "       지역                    상호                            주소        상표  \\\n",
       "0   서울특별시                구천면주유소         서울 강동구 구천면로 357 (암사동)  HD현대오일뱅크   \n",
       "1   서울특별시  재건에너지 재정제2주유소 고속셀프지점  서울특별시 강동구  천호대로 1246 (둔촌제2동)  HD현대오일뱅크   \n",
       "2   서울특별시               방아다리주유소          서울 강동구 동남로 811 (명일동)     SK에너지   \n",
       "3   서울특별시          대성석유(주)길동주유소              서울 강동구 천호대로 1168     GS칼텍스   \n",
       "4   서울특별시        지에스칼텍스㈜ 동서울주유소        서울 강동구 천호대로 1456 (상일동)     GS칼텍스   \n",
       "5   서울특별시           (주)소모 신월주유소              서울 강동구 양재대로 1323     GS칼텍스   \n",
       "6   서울특별시        (주)삼표에너지 고덕주유소           서울 강동구 고덕로 39 (암사동)     GS칼텍스   \n",
       "7   서울특별시              sk해뜨는주유소         서울 강동구  상일로 132 (강일동)     SK에너지   \n",
       "8   서울특별시       (주)퍼스트오일 코알라주유소     서울특별시 강동구  올림픽로 556 (성내동)     S-OIL   \n",
       "9   서울특별시      주)지유에너지직영 오렌지주유소          서울 강동구 성안로 102 (성내동)     SK에너지   \n",
       "10  서울특별시           (주)소모 성내주유소         서울 강동구 올림픽로 578 (성내동)     GS칼텍스   \n",
       "11  서울특별시               천호현대주유소           서울 강동구 천중로 67 (천호동)  HD현대오일뱅크   \n",
       "12  서울특별시                 광성주유소         서울 강동구 올림픽로 673 (천호동)     S-OIL   \n",
       "\n",
       "            전화번호 셀프여부 고급휘발유   휘발유    경유  실내등유  \n",
       "0    02-441-0536    N     -  1643  1527     -  \n",
       "1    02-487-2030    Y     -  1645  1529     -  \n",
       "2    02-442-5145    Y  1855  1655  1535     -  \n",
       "3    02-474-7222    N  1935  1696  1578  1600  \n",
       "4    02-426-5372    Y  1899  1699  1599     -  \n",
       "5   02-6956-6674    Y  1916  1716  1598  1500  \n",
       "6    02-441-3327    Y  1955  1726  1598  1699  \n",
       "7    02-442-7801    Y  1999  1789  1639  1600  \n",
       "8    02-484-1162    Y  1970  1790  1670     -  \n",
       "9    02-484-6165    N  1934  1793  1673     -  \n",
       "10   02-479-3838    Y     -  1798  1678     -  \n",
       "11   02-484-9323    N     -  1893  1752     -  \n",
       "12   02-470-5133    N     -  1968  1858  1800  "
      ]
     },
     "execution_count": 201,
     "metadata": {},
     "output_type": "execute_result"
    }
   ],
   "source": [
    "# pandas에서 엑셀 파일 읽어 데이터프레임으로 저장\n",
    "station = pd.read_excel(filePathList[0], header=2)\n",
    "station"
   ]
  },
  {
   "cell_type": "code",
   "execution_count": 202,
   "metadata": {},
   "outputs": [
    {
     "data": {
      "text/plain": [
       "pandas.core.frame.DataFrame"
      ]
     },
     "execution_count": 202,
     "metadata": {},
     "output_type": "execute_result"
    }
   ],
   "source": [
    "type(station)"
   ]
  },
  {
   "cell_type": "markdown",
   "metadata": {},
   "source": [
    "#### 데이터 합치기(세로방향)\n",
    "- SQL의 UNION과 같은 경우\n",
    "- 모든 칼럼의 이름이 동일한 경우 상하로 결합\n",
    "- pandas에서 concat([dfA, dfB, dfC])함수를 이용"
   ]
  },
  {
   "cell_type": "code",
   "execution_count": 206,
   "metadata": {},
   "outputs": [],
   "source": [
    "dfList = []\n",
    "for file in filePathList:\n",
    "    dfList.append(pd.read_excel(file, header=2))\n",
    "stations = pd.concat(dfList)"
   ]
  },
  {
   "cell_type": "code",
   "execution_count": null,
   "metadata": {},
   "outputs": [],
   "source": [
    "stations.head()"
   ]
  },
  {
   "cell_type": "code",
   "execution_count": 207,
   "metadata": {},
   "outputs": [
    {
     "data": {
      "text/plain": [
       "<bound method DataFrame.info of        지역                    상호                            주소        상표  \\\n",
       "0   서울특별시                구천면주유소         서울 강동구 구천면로 357 (암사동)  HD현대오일뱅크   \n",
       "1   서울특별시  재건에너지 재정제2주유소 고속셀프지점  서울특별시 강동구  천호대로 1246 (둔촌제2동)  HD현대오일뱅크   \n",
       "2   서울특별시               방아다리주유소          서울 강동구 동남로 811 (명일동)     SK에너지   \n",
       "3   서울특별시          대성석유(주)길동주유소              서울 강동구 천호대로 1168     GS칼텍스   \n",
       "4   서울특별시        지에스칼텍스㈜ 동서울주유소        서울 강동구 천호대로 1456 (상일동)     GS칼텍스   \n",
       "..    ...                   ...                           ...       ...   \n",
       "25  서울특별시         ㈜새서울석유 새서울주유소               서울 강남구 압구정로 154  HD현대오일뱅크   \n",
       "26  서울특별시          (주)소모 쎈트럴주유소                서울 강남구 삼성로 335     GS칼텍스   \n",
       "27  서울특별시               SK논현주유소          서울 강남구 논현로 747 (논현동)     SK에너지   \n",
       "28  서울특별시   (주)제이제이네트웍스 제이제이주유소                서울 강남구 언주로 716  HD현대오일뱅크   \n",
       "29  서울특별시        (주)만정에너지 삼보주유소         서울 강남구 봉은사로 433 (삼성동)     GS칼텍스   \n",
       "\n",
       "           전화번호 셀프여부 고급휘발유   휘발유    경유  실내등유  \n",
       "0   02-441-0536    N     -  1643  1527     -  \n",
       "1   02-487-2030    Y     -  1645  1529     -  \n",
       "2   02-442-5145    Y  1855  1655  1535     -  \n",
       "3   02-474-7222    N  1935  1696  1578  1600  \n",
       "4   02-426-5372    Y  1899  1699  1599     -  \n",
       "..          ...  ...   ...   ...   ...   ...  \n",
       "25  02-543-1154    N  2557  2258  2048     -  \n",
       "26  02-565-0267    N  2558  2358  2158     -  \n",
       "27  02-511-0955    N  2670  2435  2270  1840  \n",
       "28  02-518-5631    N  2768  2548  2290     -  \n",
       "29  02-518-5141    N  2860  2620  2580  1850  \n",
       "\n",
       "[131 rows x 10 columns]>"
      ]
     },
     "execution_count": 207,
     "metadata": {},
     "output_type": "execute_result"
    }
   ],
   "source": [
    "stations.info"
   ]
  },
  {
   "cell_type": "code",
   "execution_count": 208,
   "metadata": {},
   "outputs": [],
   "source": [
    "stations.to_csv('crawl_data/서울시주유소.csv', index='False')"
   ]
  },
  {
   "cell_type": "markdown",
   "metadata": {},
   "source": [
    "-----"
   ]
  }
 ],
 "metadata": {
  "kernelspec": {
   "display_name": "Python 3 (ipykernel)",
   "language": "python",
   "name": "python3"
  },
  "language_info": {
   "codemirror_mode": {
    "name": "ipython",
    "version": 3
   },
   "file_extension": ".py",
   "mimetype": "text/x-python",
   "name": "python",
   "nbconvert_exporter": "python",
   "pygments_lexer": "ipython3",
   "version": "3.12.9"
  }
 },
 "nbformat": 4,
 "nbformat_minor": 4
}
