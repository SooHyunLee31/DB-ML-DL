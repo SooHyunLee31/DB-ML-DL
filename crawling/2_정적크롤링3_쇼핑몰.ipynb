{
 "cells": [
  {
   "cell_type": "markdown",
   "metadata": {},
   "source": [
    "# 정적크롤링 실습3. 쇼핑몰 상품정보"
   ]
  },
  {
   "cell_type": "markdown",
   "metadata": {},
   "source": [
    "## 쇼핑몰 상품 정보 크롤링 "
   ]
  },
  {
   "cell_type": "markdown",
   "metadata": {},
   "source": [
    "#### 화장품 판매 사이트 : 상품 정보(상품명, 정상가, 세일가) 크롤링\n",
    "\n",
    "- toners&mists 관련 상품 목록 \n",
    "- http://jolse.com/category/toners-mists/1019/"
   ]
  },
  {
   "cell_type": "markdown",
   "metadata": {},
   "source": [
    "#### 크롤링 페이지 읽어오기"
   ]
  },
  {
   "cell_type": "code",
   "execution_count": 12,
   "metadata": {},
   "outputs": [],
   "source": [
    "import requests\n",
    "from urllib.request import urlopen\n",
    "from bs4 import BeautifulSoup"
   ]
  },
  {
   "cell_type": "code",
   "execution_count": 11,
   "metadata": {},
   "outputs": [],
   "source": [
    "url = 'http://jolse.com/category/toners-mists/1019/'\n",
    "html = urlopen(url).read()\n",
    "soup = BeautifulSoup(html, 'html.parser')"
   ]
  },
  {
   "cell_type": "markdown",
   "metadata": {},
   "source": [
    "#### 1번 페이지의 전체 상품의 상품명, 정상가, 세일가 추출"
   ]
  },
  {
   "cell_type": "code",
   "execution_count": 109,
   "metadata": {},
   "outputs": [],
   "source": [
    "# 상품명\n",
    "name = soup.find_all('strong', {'class':'name'})\n",
    "name_list = [n.text.strip('Product Name : ') for n in name]"
   ]
  },
  {
   "cell_type": "code",
   "execution_count": 120,
   "metadata": {},
   "outputs": [],
   "source": [
    "# 정상가와 세일가\n",
    "price = []\n",
    "for i in soup.select('div.description > ul > li'):\n",
    "    price.append(i.text.strip('\\nPrice').strip(' '))\n",
    "realprice_list = price[::2]\n",
    "saleprice_list = price[1::2]\n",
    "# print(saleprice_list)"
   ]
  },
  {
   "cell_type": "code",
   "execution_count": 122,
   "metadata": {},
   "outputs": [],
   "source": [
    "# 상세 페이지\n",
    "link = soup.find_all('strong', {'class':'name'})\n",
    "links = [l.find('a') for l in link]\n",
    "link_list = ['https://jolse.com'+l['href'] for l in links]"
   ]
  },
  {
   "cell_type": "markdown",
   "metadata": {},
   "source": [
    "####  데이터프레임으로 저장하고 아래와 같이 출력"
   ]
  },
  {
   "cell_type": "code",
   "execution_count": 125,
   "metadata": {},
   "outputs": [
    {
     "data": {
      "text/html": [
       "<div>\n",
       "<style scoped>\n",
       "    .dataframe tbody tr th:only-of-type {\n",
       "        vertical-align: middle;\n",
       "    }\n",
       "\n",
       "    .dataframe tbody tr th {\n",
       "        vertical-align: top;\n",
       "    }\n",
       "\n",
       "    .dataframe thead th {\n",
       "        text-align: right;\n",
       "    }\n",
       "</style>\n",
       "<table border=\"1\" class=\"dataframe\">\n",
       "  <thead>\n",
       "    <tr style=\"text-align: right;\">\n",
       "      <th></th>\n",
       "      <th>상품명</th>\n",
       "      <th>정상가</th>\n",
       "      <th>세일가</th>\n",
       "      <th>링크</th>\n",
       "    </tr>\n",
       "  </thead>\n",
       "  <tbody>\n",
       "    <tr>\n",
       "      <th>0</th>\n",
       "      <td>SKIN1004 Madagascar Centella Toning Toner 210ml</td>\n",
       "      <td>USD 20.00</td>\n",
       "      <td>USD 13.99 (30% OFF)</td>\n",
       "      <td>https://jolse.com/product/skin1004-madagascar-...</td>\n",
       "    </tr>\n",
       "    <tr>\n",
       "      <th>1</th>\n",
       "      <td>ROUND LAB 1025 Dokdo Toner 200ml</td>\n",
       "      <td>USD 17.00</td>\n",
       "      <td>USD 12.99 (24% OFF)</td>\n",
       "      <td>https://jolse.com/product/round-lab-1025-dokdo...</td>\n",
       "    </tr>\n",
       "    <tr>\n",
       "      <th>2</th>\n",
       "      <td>COSRX Full Fit Propolis Synergy Toner 150ml</td>\n",
       "      <td>USD 28.00</td>\n",
       "      <td>USD 19.60 (30% OFF)</td>\n",
       "      <td>https://jolse.com/product/cosrx-full-fit-propo...</td>\n",
       "    </tr>\n",
       "    <tr>\n",
       "      <th>3</th>\n",
       "      <td>SKIN1004 Madagascar Centella Poremizing Clear ...</td>\n",
       "      <td>USD 21.00</td>\n",
       "      <td>USD 13.49 (36% OFF)</td>\n",
       "      <td>https://jolse.com/product/skin1004-madagascar-...</td>\n",
       "    </tr>\n",
       "    <tr>\n",
       "      <th>4</th>\n",
       "      <td>limax Jiwoogae Heartleaf BHA Peeling Pad 60pcs...</td>\n",
       "      <td>USD 17.50</td>\n",
       "      <td>USD 12.25 (30% OFF)</td>\n",
       "      <td>https://jolse.com/product/celimax-jiwoogae-hea...</td>\n",
       "    </tr>\n",
       "  </tbody>\n",
       "</table>\n",
       "</div>"
      ],
      "text/plain": [
       "                                                 상품명        정상가  \\\n",
       "0    SKIN1004 Madagascar Centella Toning Toner 210ml  USD 20.00   \n",
       "1                   ROUND LAB 1025 Dokdo Toner 200ml  USD 17.00   \n",
       "2        COSRX Full Fit Propolis Synergy Toner 150ml  USD 28.00   \n",
       "3  SKIN1004 Madagascar Centella Poremizing Clear ...  USD 21.00   \n",
       "4  limax Jiwoogae Heartleaf BHA Peeling Pad 60pcs...  USD 17.50   \n",
       "\n",
       "                   세일가                                                 링크  \n",
       "0  USD 13.99 (30% OFF)  https://jolse.com/product/skin1004-madagascar-...  \n",
       "1  USD 12.99 (24% OFF)  https://jolse.com/product/round-lab-1025-dokdo...  \n",
       "2  USD 19.60 (30% OFF)  https://jolse.com/product/cosrx-full-fit-propo...  \n",
       "3  USD 13.49 (36% OFF)  https://jolse.com/product/skin1004-madagascar-...  \n",
       "4  USD 12.25 (30% OFF)  https://jolse.com/product/celimax-jiwoogae-hea...  "
      ]
     },
     "execution_count": 125,
     "metadata": {},
     "output_type": "execute_result"
    }
   ],
   "source": [
    "# 데이터 저장\n",
    "import pandas as pd\n",
    "items_dict = {'상품명': name_list, '정상가': realprice_list, '세일가':saleprice_list, '링크':link_list}\n",
    "items_df = pd.DataFrame(data=items_dict)\n",
    "items_df.to_csv('crawl_data/toners_mists_pages.csv', index=False)\n",
    "items_df[:5]"
   ]
  },
  {
   "cell_type": "markdown",
   "metadata": {},
   "source": [
    "### 연습문제"
   ]
  },
  {
   "cell_type": "markdown",
   "metadata": {},
   "source": [
    "#### 1. 상품 1개의 정보(상품명, 정상가, 세일가, 상품링크)를 추출하는 함수를 작성하시오.\n",
    "\n",
    "- 세일하지 않는 품목이 있을 수 있으므로 예외처리를 사용할 것\n",
    "- 상품링크는 상품 상세페이지주소\n",
    "- 반환값은 딕셔너리 형식으로 {'name':'상품명' , 'price':'정상가', 'sale_price':'세일가', 'link';'상세페이지주소'}"
   ]
  },
  {
   "cell_type": "code",
   "execution_count": null,
   "metadata": {},
   "outputs": [],
   "source": []
  },
  {
   "cell_type": "markdown",
   "metadata": {},
   "source": [
    "#### 2. 1번에서 작성한 함수를 사용하여 한 페이지에 들어있는 상품목록 추출하는 함수 작성하시오."
   ]
  },
  {
   "cell_type": "code",
   "execution_count": 13,
   "metadata": {},
   "outputs": [
    {
     "ename": "NameError",
     "evalue": "name 'prdName' is not defined",
     "output_type": "error",
     "traceback": [
      "\u001b[1;31m---------------------------------------------------------------------------\u001b[0m",
      "\u001b[1;31mNameError\u001b[0m                                 Traceback (most recent call last)",
      "Cell \u001b[1;32mIn[13], line 16\u001b[0m\n\u001b[0;32m     14\u001b[0m     sale_price \u001b[38;5;241m=\u001b[39m \u001b[38;5;124m'\u001b[39m\u001b[38;5;124mno sale price\u001b[39m\u001b[38;5;124m'\u001b[39m\n\u001b[0;32m     15\u001b[0m link \u001b[38;5;241m=\u001b[39m box\u001b[38;5;241m.\u001b[39ma[\u001b[38;5;124m'\u001b[39m\u001b[38;5;124mhref\u001b[39m\u001b[38;5;124m'\u001b[39m]\n\u001b[1;32m---> 16\u001b[0m prdDesc\u001b[38;5;241m.\u001b[39mappend([prdName, price, sale_price, link])\n",
      "\u001b[1;31mNameError\u001b[0m: name 'prdName' is not defined"
     ]
    }
   ],
   "source": [
    "prdDesc = []\n",
    "items = soup.find('div', {'class': 'description'})\n",
    "\n",
    "for item in items:\n",
    "    box = items.find('strong', {'class':'name'})\n",
    "    spans = box.find_all('span')\n",
    "    prName = spans[-1].text\n",
    "    ul = items.find('ul')\n",
    "    priceInfo = ul.find_all('span')\n",
    "    price = priceInfo[1].text\n",
    "    try:\n",
    "        sale_price = priceInfo[4].text\n",
    "    except:\n",
    "        sale_price = 'no sale price'\n",
    "    link = box.a['href']\n",
    "    prdDesc.append([prdName, price, sale_price, link])\n"
   ]
  },
  {
   "cell_type": "markdown",
   "metadata": {},
   "source": [
    "#### 3. 지정한 페이지의 전체 상품목록(상품명, 정상가, 세일가, 상품링크)을 데이터프레임으로 생성하는 함수를 작성하시오."
   ]
  },
  {
   "cell_type": "code",
   "execution_count": null,
   "metadata": {},
   "outputs": [],
   "source": []
  },
  {
   "cell_type": "markdown",
   "metadata": {},
   "source": [
    "#### 4. 두번째 페이지의 상품목록 전체를 추출하시오"
   ]
  },
  {
   "cell_type": "code",
   "execution_count": 119,
   "metadata": {},
   "outputs": [],
   "source": [
    "url = 'https://jolse.com/category/toners-mists/1019/?page=' + str(2)"
   ]
  },
  {
   "cell_type": "markdown",
   "metadata": {},
   "source": [
    "-------------------------------"
   ]
  }
 ],
 "metadata": {
  "kernelspec": {
   "display_name": "Python 3 (ipykernel)",
   "language": "python",
   "name": "python3"
  },
  "language_info": {
   "codemirror_mode": {
    "name": "ipython",
    "version": 3
   },
   "file_extension": ".py",
   "mimetype": "text/x-python",
   "name": "python",
   "nbconvert_exporter": "python",
   "pygments_lexer": "ipython3",
   "version": "3.12.9"
  }
 },
 "nbformat": 4,
 "nbformat_minor": 4
}
