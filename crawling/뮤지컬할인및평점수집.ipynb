{
 "cells": [
  {
   "cell_type": "code",
   "execution_count": 2,
   "id": "0fe07dbd-a9a1-4788-92d0-1c020f2634c1",
   "metadata": {},
   "outputs": [],
   "source": [
    "import pandas as pd\n",
    "from bs4 import BeautifulSoup\n",
    "from selenium import webdriver\n",
    "from selenium.webdriver.common.by import By\n",
    "from selenium.webdriver.chrome.service import Service\n",
    "from webdriver_manager.chrome import ChromeDriverManager\n",
    "service = Service(executable_path=ChromeDriverManager().install())\n",
    "import requests\n",
    "from urllib.request import urlopen\n",
    "from bs4 import BeautifulSoup\n",
    "import time"
   ]
  },
  {
   "cell_type": "code",
   "execution_count": 3,
   "id": "3ddb40d8-419f-4987-8d47-dc616cf5f515",
   "metadata": {},
   "outputs": [],
   "source": [
    "url = 'https://tickets.interpark.com/contents/genre/musical'\n",
    "html = urlopen(url).read()\n",
    "soup = BeautifulSoup(html, 'html.parser')"
   ]
  },
  {
   "cell_type": "code",
   "execution_count": 4,
   "id": "a849c73f-d389-4f66-98b9-3b1832febf7a",
   "metadata": {},
   "outputs": [
    {
     "data": {
      "text/plain": [
       "15"
      ]
     },
     "execution_count": 4,
     "metadata": {},
     "output_type": "execute_result"
    }
   ],
   "source": [
    "musical = soup.find_all('div', {'class':'Card_cardContent__b557a'})\n",
    "len(musical)"
   ]
  },
  {
   "cell_type": "code",
   "execution_count": 5,
   "id": "771cd939-f9bc-4bdd-aca8-319d9690bfba",
   "metadata": {},
   "outputs": [
    {
     "data": {
      "text/plain": [
       "<div class=\"Card_cardContent__b557a\"><div class=\"DiscountTicket_saleBadge__b15ac\"><span>프리뷰 할인</span></div><ul class=\"DiscountTicket_wrapContents__342ce\"><li class=\"DiscountTicket_ticketOpenTitle__e8774\">붉은 정원</li><li class=\"DiscountTicket_concertHallName__e3a96\">링크아트센터드림 드림2관</li><li class=\"DiscountTicket_playPeriod__6ab6f\">2025.4.22 ~ 7.20</li><li class=\"DiscountTicket_wrapRow__805aa\"><span class=\"DiscountTicket_discountRate__c49b7\">50%</span><span class=\"DiscountTicket_discountPrice__1dc95\">33,000원</span></li></ul></div>"
      ]
     },
     "execution_count": 5,
     "metadata": {},
     "output_type": "execute_result"
    }
   ],
   "source": [
    "musical[0]"
   ]
  },
  {
   "cell_type": "code",
   "execution_count": 6,
   "id": "a045d321-bc03-422e-a258-75df28b4208a",
   "metadata": {},
   "outputs": [
    {
     "data": {
      "text/plain": [
       "[<span>프리뷰 할인</span>,\n",
       " <span class=\"DiscountTicket_discountRate__c49b7\">50%</span>,\n",
       " <span class=\"DiscountTicket_discountPrice__1dc95\">33,000원</span>]"
      ]
     },
     "execution_count": 6,
     "metadata": {},
     "output_type": "execute_result"
    }
   ],
   "source": [
    "discount = musical[0].find_all('span')\n",
    "discount"
   ]
  },
  {
   "cell_type": "code",
   "execution_count": 7,
   "id": "092bedd0-47e5-4439-a186-4a1832a44ff2",
   "metadata": {},
   "outputs": [
    {
     "data": {
      "text/plain": [
       "[<li class=\"DiscountTicket_ticketOpenTitle__e8774\">붉은 정원</li>,\n",
       " <li class=\"DiscountTicket_concertHallName__e3a96\">링크아트센터드림 드림2관</li>,\n",
       " <li class=\"DiscountTicket_playPeriod__6ab6f\">2025.4.22 ~ 7.20</li>,\n",
       " <li class=\"DiscountTicket_wrapRow__805aa\"><span class=\"DiscountTicket_discountRate__c49b7\">50%</span><span class=\"DiscountTicket_discountPrice__1dc95\">33,000원</span></li>]"
      ]
     },
     "execution_count": 7,
     "metadata": {},
     "output_type": "execute_result"
    }
   ],
   "source": [
    "info = musical[0].find_all('li')\n",
    "info"
   ]
  },
  {
   "cell_type": "code",
   "execution_count": 8,
   "id": "13048064-2d00-469a-ab43-c61864aeada1",
   "metadata": {},
   "outputs": [
    {
     "data": {
      "text/plain": [
       "['붉은 정원', '링크아트센터드림 드림2관', '2025.4.22 ~ 7.20']"
      ]
     },
     "execution_count": 8,
     "metadata": {},
     "output_type": "execute_result"
    }
   ],
   "source": [
    "info_list = [i.text for i in info][:-1]\n",
    "info_list"
   ]
  },
  {
   "cell_type": "code",
   "execution_count": 9,
   "id": "ddd87151-ae26-4f48-a40b-af786873bca7",
   "metadata": {
    "scrolled": true
   },
   "outputs": [
    {
     "data": {
      "text/plain": [
       "['프리뷰 할인', '50%', '33,000원']"
      ]
     },
     "execution_count": 9,
     "metadata": {},
     "output_type": "execute_result"
    }
   ],
   "source": [
    "dc_list = [dc.text for dc in discount]\n",
    "dc_list"
   ]
  },
  {
   "cell_type": "code",
   "execution_count": 11,
   "id": "c7c27ccb-7397-4d70-b36f-a21d01906fac",
   "metadata": {},
   "outputs": [],
   "source": [
    "# 딕셔너리로 만드는 함수\n",
    "def make_dic(tag_list, info_list):\n",
    "    musical_dic = {}\n",
    "    for t, i in zip(tag_list, info_list):\n",
    "        musical_dic[t] = i\n",
    "    return musical_dic"
   ]
  },
  {
   "cell_type": "code",
   "execution_count": 12,
   "id": "42b0e18f-68af-4458-ba8d-7732eea291a1",
   "metadata": {
    "scrolled": true
   },
   "outputs": [
    {
     "data": {
      "text/plain": [
       "{'제목': '붉은 정원',\n",
       " '장소': '링크아트센터드림 드림2관',\n",
       " '기간': '2025.4.22 ~ 7.20',\n",
       " '할인유형': '프리뷰 할인',\n",
       " '할인률': '50%',\n",
       " '할인가': '33,000원'}"
      ]
     },
     "execution_count": 12,
     "metadata": {},
     "output_type": "execute_result"
    }
   ],
   "source": [
    "tag_list = ['제목', '장소', '기간', '할인유형', '할인률', '할인가']\n",
    "info_list = info_list + dc_list\n",
    "make_dic(tag_list, info_list)"
   ]
  },
  {
   "cell_type": "markdown",
   "id": "a7543e48-de0f-414a-be2d-dbe25ba4cec2",
   "metadata": {},
   "source": [
    "### 인터파크 할인 뮤지컬 정적 크롤링"
   ]
  },
  {
   "cell_type": "markdown",
   "id": "485bb45e-5476-44d3-b6fb-873a929a9a13",
   "metadata": {},
   "source": [
    "#### 페이지 읽어오기"
   ]
  },
  {
   "cell_type": "code",
   "execution_count": 13,
   "id": "34ab481f-b017-43a9-ab0f-6c8d4c4cb44b",
   "metadata": {},
   "outputs": [],
   "source": [
    "url = 'https://tickets.interpark.com/contents/genre/musical'\n",
    "html = urlopen(url).read()\n",
    "soup = BeautifulSoup(html, 'html.parser')"
   ]
  },
  {
   "cell_type": "markdown",
   "id": "1bb46968-4de6-4bc3-b74b-2074537d483d",
   "metadata": {},
   "source": [
    "#### 할인 뮤지컬 정보 수집"
   ]
  },
  {
   "cell_type": "code",
   "execution_count": 14,
   "id": "b8a610fa-29ed-4d9f-8532-c7c93c598869",
   "metadata": {},
   "outputs": [],
   "source": [
    "def make_info_list(mus):\n",
    "    info_list = [i.text for i in mus.find_all('li')][:-1]\n",
    "    dc_list = [dc.text for dc in mus.find_all('span')]\n",
    "    info_list = info_list + dc_list\n",
    "    return info_list"
   ]
  },
  {
   "cell_type": "code",
   "execution_count": 15,
   "id": "a290df83-97b8-4302-9940-d9be79525644",
   "metadata": {},
   "outputs": [],
   "source": [
    "# 딕셔너리로 만드는 함수\n",
    "def make_dic(tag_list, info_list):\n",
    "    musical_dic = {}\n",
    "    for t, i in zip(tag_list, info_list):\n",
    "        musical_dic[t] = i\n",
    "    return musical_dic"
   ]
  },
  {
   "cell_type": "code",
   "execution_count": 16,
   "id": "70a2071a-67be-42a4-9803-3fb11bfe6d8a",
   "metadata": {
    "scrolled": true
   },
   "outputs": [
    {
     "data": {
      "text/html": [
       "<div>\n",
       "<style scoped>\n",
       "    .dataframe tbody tr th:only-of-type {\n",
       "        vertical-align: middle;\n",
       "    }\n",
       "\n",
       "    .dataframe tbody tr th {\n",
       "        vertical-align: top;\n",
       "    }\n",
       "\n",
       "    .dataframe thead th {\n",
       "        text-align: right;\n",
       "    }\n",
       "</style>\n",
       "<table border=\"1\" class=\"dataframe\">\n",
       "  <thead>\n",
       "    <tr style=\"text-align: right;\">\n",
       "      <th></th>\n",
       "      <th>제목</th>\n",
       "      <th>장소</th>\n",
       "      <th>기간</th>\n",
       "      <th>할인유형</th>\n",
       "      <th>할인률</th>\n",
       "      <th>할인가</th>\n",
       "    </tr>\n",
       "  </thead>\n",
       "  <tbody>\n",
       "    <tr>\n",
       "      <th>0</th>\n",
       "      <td>붉은 정원</td>\n",
       "      <td>링크아트센터드림 드림2관</td>\n",
       "      <td>2025.4.22 ~ 7.20</td>\n",
       "      <td>프리뷰 할인</td>\n",
       "      <td>50%</td>\n",
       "      <td>33,000원</td>\n",
       "    </tr>\n",
       "    <tr>\n",
       "      <th>1</th>\n",
       "      <td>긴긴밤</td>\n",
       "      <td>인터파크 서경스퀘어 스콘2관</td>\n",
       "      <td>2025.3.12 ~ 5.25</td>\n",
       "      <td>마티네 할인</td>\n",
       "      <td>30%</td>\n",
       "      <td>46,200원</td>\n",
       "    </tr>\n",
       "    <tr>\n",
       "      <th>2</th>\n",
       "      <td>하트셉수트</td>\n",
       "      <td>대학로 자유극장</td>\n",
       "      <td>2025.3.11 ~ 6.1</td>\n",
       "      <td>청소년 할인</td>\n",
       "      <td>30%</td>\n",
       "      <td>46,200원</td>\n",
       "    </tr>\n",
       "    <tr>\n",
       "      <th>3</th>\n",
       "      <td>너의 결혼식</td>\n",
       "      <td>인터파크 유니플렉스 1관</td>\n",
       "      <td>2025.3.20 ~ 6.8</td>\n",
       "      <td>3차 조기예매 할인</td>\n",
       "      <td>30%</td>\n",
       "      <td>46,200원</td>\n",
       "    </tr>\n",
       "    <tr>\n",
       "      <th>4</th>\n",
       "      <td>라이카</td>\n",
       "      <td>두산아트센터 연강홀</td>\n",
       "      <td>2025.3.14 ~ 5.18</td>\n",
       "      <td>라이브러리컴퍼니 할인</td>\n",
       "      <td>20%</td>\n",
       "      <td>56,000원</td>\n",
       "    </tr>\n",
       "    <tr>\n",
       "      <th>5</th>\n",
       "      <td>종의 기원 콘서트</td>\n",
       "      <td>성신여대 운정그린캠퍼스 대강당</td>\n",
       "      <td>2025.4.20</td>\n",
       "      <td>뷰티풀웨이 할인</td>\n",
       "      <td>10%</td>\n",
       "      <td>39,600원</td>\n",
       "    </tr>\n",
       "    <tr>\n",
       "      <th>6</th>\n",
       "      <td>컨택트</td>\n",
       "      <td>극장 온(구 CJ아지트)</td>\n",
       "      <td>2025.3.28 ~ 6.29</td>\n",
       "      <td>프리뷰 할인</td>\n",
       "      <td>50%</td>\n",
       "      <td>33,000원</td>\n",
       "    </tr>\n",
       "    <tr>\n",
       "      <th>7</th>\n",
       "      <td>2025 적벽</td>\n",
       "      <td>국립정동극장</td>\n",
       "      <td>2025.3.13 ~ 4.20</td>\n",
       "      <td>꽃청춘할인</td>\n",
       "      <td>40%</td>\n",
       "      <td>42,000원</td>\n",
       "    </tr>\n",
       "    <tr>\n",
       "      <th>8</th>\n",
       "      <td>니진스키</td>\n",
       "      <td>예스24아트원 1관</td>\n",
       "      <td>2025.3.25 ~ 6.15</td>\n",
       "      <td>2차 조기예매 할인</td>\n",
       "      <td>25%</td>\n",
       "      <td>52,500원</td>\n",
       "    </tr>\n",
       "    <tr>\n",
       "      <th>9</th>\n",
       "      <td>헝키쇼 (HUNKY SHOW)</td>\n",
       "      <td>스타스테이지</td>\n",
       "      <td>2025.4.25 ~ 8.31</td>\n",
       "      <td>프리뷰 할인</td>\n",
       "      <td>55%</td>\n",
       "      <td>39,600원</td>\n",
       "    </tr>\n",
       "    <tr>\n",
       "      <th>10</th>\n",
       "      <td>빨래</td>\n",
       "      <td>인터파크 유니플렉스 2관</td>\n",
       "      <td>2025.3.12 ~ 9.21</td>\n",
       "      <td>직장인 할인</td>\n",
       "      <td>20%</td>\n",
       "      <td>61,600원</td>\n",
       "    </tr>\n",
       "    <tr>\n",
       "      <th>11</th>\n",
       "      <td>도리안 그레이</td>\n",
       "      <td>홍익대 대학로 아트센터 대극장</td>\n",
       "      <td>2025.4.17 ~ 4.18</td>\n",
       "      <td>피크닉할인</td>\n",
       "      <td>40%</td>\n",
       "      <td>54,000원</td>\n",
       "    </tr>\n",
       "    <tr>\n",
       "      <th>12</th>\n",
       "      <td>2025 푸에르자 부르타</td>\n",
       "      <td>성수문화예술마당 FB씨어터</td>\n",
       "      <td>2025.3.18 ~ 6.22</td>\n",
       "      <td>가정의 달 할인</td>\n",
       "      <td>30%</td>\n",
       "      <td>84,700원</td>\n",
       "    </tr>\n",
       "    <tr>\n",
       "      <th>13</th>\n",
       "      <td>더 맨 얼라이브 : 초이스</td>\n",
       "      <td>서울숲씨어터 2관</td>\n",
       "      <td>2025.3.21 ~ 6.30</td>\n",
       "      <td>학생할인</td>\n",
       "      <td>20%</td>\n",
       "      <td>61,600원</td>\n",
       "    </tr>\n",
       "    <tr>\n",
       "      <th>14</th>\n",
       "      <td>와일드와일드 : 애프터파티</td>\n",
       "      <td>와일드 와일드 전용관 (명보아트홀)</td>\n",
       "      <td>2024.8.16 ~ 2025.5.18</td>\n",
       "      <td>타임세일</td>\n",
       "      <td>40%</td>\n",
       "      <td>46,200원</td>\n",
       "    </tr>\n",
       "  </tbody>\n",
       "</table>\n",
       "</div>"
      ],
      "text/plain": [
       "                  제목                   장소                     기간         할인유형  \\\n",
       "0              붉은 정원        링크아트센터드림 드림2관       2025.4.22 ~ 7.20       프리뷰 할인   \n",
       "1                긴긴밤      인터파크 서경스퀘어 스콘2관       2025.3.12 ~ 5.25       마티네 할인   \n",
       "2              하트셉수트             대학로 자유극장        2025.3.11 ~ 6.1       청소년 할인   \n",
       "3             너의 결혼식        인터파크 유니플렉스 1관        2025.3.20 ~ 6.8   3차 조기예매 할인   \n",
       "4                라이카           두산아트센터 연강홀       2025.3.14 ~ 5.18  라이브러리컴퍼니 할인   \n",
       "5          종의 기원 콘서트     성신여대 운정그린캠퍼스 대강당              2025.4.20     뷰티풀웨이 할인   \n",
       "6                컨택트        극장 온(구 CJ아지트)       2025.3.28 ~ 6.29       프리뷰 할인   \n",
       "7            2025 적벽               국립정동극장       2025.3.13 ~ 4.20        꽃청춘할인   \n",
       "8               니진스키           예스24아트원 1관       2025.3.25 ~ 6.15   2차 조기예매 할인   \n",
       "9   헝키쇼 (HUNKY SHOW)               스타스테이지       2025.4.25 ~ 8.31       프리뷰 할인   \n",
       "10                빨래        인터파크 유니플렉스 2관       2025.3.12 ~ 9.21       직장인 할인   \n",
       "11           도리안 그레이     홍익대 대학로 아트센터 대극장       2025.4.17 ~ 4.18        피크닉할인   \n",
       "12     2025 푸에르자 부르타       성수문화예술마당 FB씨어터       2025.3.18 ~ 6.22     가정의 달 할인   \n",
       "13    더 맨 얼라이브 : 초이스            서울숲씨어터 2관       2025.3.21 ~ 6.30         학생할인   \n",
       "14    와일드와일드 : 애프터파티  와일드 와일드 전용관 (명보아트홀)  2024.8.16 ~ 2025.5.18         타임세일   \n",
       "\n",
       "    할인률      할인가  \n",
       "0   50%  33,000원  \n",
       "1   30%  46,200원  \n",
       "2   30%  46,200원  \n",
       "3   30%  46,200원  \n",
       "4   20%  56,000원  \n",
       "5   10%  39,600원  \n",
       "6   50%  33,000원  \n",
       "7   40%  42,000원  \n",
       "8   25%  52,500원  \n",
       "9   55%  39,600원  \n",
       "10  20%  61,600원  \n",
       "11  40%  54,000원  \n",
       "12  30%  84,700원  \n",
       "13  20%  61,600원  \n",
       "14  40%  46,200원  "
      ]
     },
     "execution_count": 16,
     "metadata": {},
     "output_type": "execute_result"
    }
   ],
   "source": [
    "musical = soup.find_all('div', {'class':'Card_cardContent__b557a'})\n",
    "tag_list = ['제목', '장소', '기간', '할인유형', '할인률', '할인가']\n",
    "musical_list = []\n",
    "for mus in musical:\n",
    "    info_list = make_info_list(mus)\n",
    "    musical_list.append(make_dic(tag_list, info_list))\n",
    "pd.DataFrame(musical_list)"
   ]
  },
  {
   "cell_type": "code",
   "execution_count": 18,
   "id": "163e98be-efa3-41f1-8a61-126abf5a03ee",
   "metadata": {},
   "outputs": [],
   "source": [
    "df = pd.DataFrame(musical_list)\n",
    "df.to_csv('crawl_data/뮤지컬할인.csv', index=False)"
   ]
  },
  {
   "cell_type": "markdown",
   "id": "3fbff4b1-527a-4a0b-bc76-4518bf8d1531",
   "metadata": {},
   "source": [
    "### 리뷰 페이지 동적 크롤링"
   ]
  },
  {
   "cell_type": "code",
   "execution_count": 19,
   "id": "bb5ea15c-17c9-4ded-8447-a5b844020b3f",
   "metadata": {},
   "outputs": [],
   "source": [
    "# 리뷰 페이지 불러오기\n",
    "driver = webdriver.Chrome(service=service)\n",
    "url = 'https://ticket.interpark.com/Community/Play/Talk/main.asp'\n",
    "driver.get(url)\n",
    "driver.implicitly_wait(3)\n",
    "time.sleep(1)\n",
    "xpath = '/html/body/table/tbody/tr[5]/td/table/tbody/tr/td[1]/table[1]/tbody/tr/td/table/tbody/tr/td[3]/a'\n",
    "driver.find_element(By.XPATH, xpath).click()\n",
    "time.sleep(1)\n",
    "xpath = '/html/body/table/tbody/tr[4]/td/table/tbody/tr/td[1]/table/tbody/tr[3]/td/table/tbody/tr[2]/td[2]/table/tbody/tr[1]/td[2]/table/tbody/tr[1]/td[2]/a'\n",
    "driver.find_element(By.XPATH, xpath).click()"
   ]
  },
  {
   "cell_type": "code",
   "execution_count": 20,
   "id": "65ae9794-744d-4083-a8c8-a014ebde00a6",
   "metadata": {},
   "outputs": [],
   "source": [
    "music_elem = driver.find_element(By.ID, 'selGoodsName')\n",
    "music_elem.send_keys('뮤지컬 〈도리안 그레이〉')"
   ]
  },
  {
   "cell_type": "code",
   "execution_count": 21,
   "id": "783c12d5-4fec-4f53-be55-34d830934a46",
   "metadata": {},
   "outputs": [
    {
     "data": {
      "text/plain": [
       "'(5.2점/10점)'"
      ]
     },
     "execution_count": 21,
     "metadata": {},
     "output_type": "execute_result"
    }
   ],
   "source": [
    "score = driver.find_element(By.CLASS_NAME, \"textsmall\")\n",
    "score.text"
   ]
  },
  {
   "cell_type": "code",
   "execution_count": 14,
   "id": "8b6ddb4d-647b-417f-b664-bd6671f6d175",
   "metadata": {
    "scrolled": true
   },
   "outputs": [
    {
     "data": {
      "text/plain": [
       "'2025.03.30~2025.06.08 홍익대 대학로 아트센터 대극장'"
      ]
     },
     "execution_count": 14,
     "metadata": {},
     "output_type": "execute_result"
    }
   ],
   "source": [
    "u_element = driver.find_element(By.TAG_NAME, \"u\")\n",
    "u_element.text"
   ]
  },
  {
   "cell_type": "markdown",
   "id": "8d0276c0-10cb-4cb6-9702-99ef99526a1a",
   "metadata": {},
   "source": [
    "#### 뮤지컬 별점 데이터 전체 수집"
   ]
  },
  {
   "cell_type": "code",
   "execution_count": 23,
   "id": "aa985a91-284e-49ce-9e8e-7f90178e6642",
   "metadata": {},
   "outputs": [],
   "source": [
    "# 리뷰 페이지 불러오기\n",
    "driver = webdriver.Chrome(service=service)\n",
    "url = 'https://ticket.interpark.com/Community/Play/Talk/main.asp'\n",
    "driver.get(url)\n",
    "driver.implicitly_wait(3)\n",
    "time.sleep(1)\n",
    "xpath = '/html/body/table/tbody/tr[5]/td/table/tbody/tr/td[1]/table[1]/tbody/tr/td/table/tbody/tr/td[3]/a'\n",
    "driver.find_element(By.XPATH, xpath).click()\n",
    "time.sleep(1)\n",
    "xpath = '/html/body/table/tbody/tr[4]/td/table/tbody/tr/td[1]/table/tbody/tr[3]/td/table/tbody/tr[2]/td[2]/table/tbody/tr[1]/td[2]/table/tbody/tr[1]/td[2]/a'\n",
    "driver.find_element(By.XPATH, xpath).click()"
   ]
  },
  {
   "cell_type": "code",
   "execution_count": 24,
   "id": "57a8cfc2-9e12-4b9e-a703-1782d9a93336",
   "metadata": {},
   "outputs": [],
   "source": [
    "# 뮤지컬 이름 리스트 생성\n",
    "xpath = '//*[@id=\"selGoodsName\"]'\n",
    "musicList = driver.find_element(By.XPATH, xpath)\n",
    "musicOpt = musicList.find_elements(By.TAG_NAME, 'option')\n",
    "musicNames = [opt.text for opt in musicOpt][1:]"
   ]
  },
  {
   "cell_type": "code",
   "execution_count": 25,
   "id": "ceaf0106-3337-4040-a45b-9d3a3e731905",
   "metadata": {},
   "outputs": [],
   "source": [
    "# print(musicNames)"
   ]
  },
  {
   "cell_type": "code",
   "execution_count": 26,
   "id": "c3dcf3e5-6ce3-4635-8aa0-1321e217e1a9",
   "metadata": {},
   "outputs": [],
   "source": [
    "# 뮤지컬 제목, 장소 기간, 평점을 튜플로 출력하는 함수\n",
    "def search_score(title):\n",
    "    music_elem = driver.find_element(By.ID, 'selGoodsName')\n",
    "    music_elem.send_keys(title)\n",
    "    score = driver.find_element(By.CLASS_NAME, \"textsmall\")\n",
    "    u_element = driver.find_element(By.TAG_NAME, \"u\")\n",
    "    return title, u_element.text, score.text"
   ]
  },
  {
   "cell_type": "code",
   "execution_count": 27,
   "id": "279c3b30-09a0-40a0-b9e8-3e18b7519d17",
   "metadata": {},
   "outputs": [],
   "source": [
    "title_list = ['뮤지컬 〈도리안 그레이〉', '뮤지컬 〈긴긴밤〉', '뮤지컬 〈알라딘〉 한국 초연 (ALADDIN The Musical)']"
   ]
  },
  {
   "cell_type": "code",
   "execution_count": 28,
   "id": "9c15b7fc-b660-4c11-b824-15ea4497f2ec",
   "metadata": {},
   "outputs": [
    {
     "data": {
      "text/plain": [
       "[{'제목': '뮤지컬 〈도리안 그레이〉',\n",
       "  '장소/기간': '2025.03.30~2025.06.08 홍익대 대학로 아트센터 대극장',\n",
       "  '평점': '(5.2점/10점)'},\n",
       " {'제목': '뮤지컬 〈긴긴밤〉',\n",
       "  '장소/기간': '2025.03.12~2025.05.25 인터파크 서경스퀘어 스콘2관',\n",
       "  '평점': '(9.8점/10점)'},\n",
       " {'제목': '뮤지컬 〈알라딘〉 한국 초연 (ALADDIN The Musical)',\n",
       "  '장소/기간': '2024.11.22~2025.06.22 샤롯데씨어터',\n",
       "  '평점': '(9.3점/10점)'}]"
      ]
     },
     "execution_count": 28,
     "metadata": {},
     "output_type": "execute_result"
    }
   ],
   "source": [
    "score_list = []\n",
    "for title in title_list:\n",
    "    score_dic = {}\n",
    "    score = search_score(title)\n",
    "    score_dic['제목'] = score[0]\n",
    "    score_dic['장소/기간'] = score[1]\n",
    "    score_dic['평점'] = score[2]\n",
    "    time.sleep(7)\n",
    "    score_list.append(score_dic)\n",
    "score_list"
   ]
  },
  {
   "cell_type": "code",
   "execution_count": 16,
   "id": "96b8d8a6-9615-40bc-b59b-3cc63f9faaf6",
   "metadata": {},
   "outputs": [
    {
     "data": {
      "text/html": [
       "<div>\n",
       "<style scoped>\n",
       "    .dataframe tbody tr th:only-of-type {\n",
       "        vertical-align: middle;\n",
       "    }\n",
       "\n",
       "    .dataframe tbody tr th {\n",
       "        vertical-align: top;\n",
       "    }\n",
       "\n",
       "    .dataframe thead th {\n",
       "        text-align: right;\n",
       "    }\n",
       "</style>\n",
       "<table border=\"1\" class=\"dataframe\">\n",
       "  <thead>\n",
       "    <tr style=\"text-align: right;\">\n",
       "      <th></th>\n",
       "      <th>제목</th>\n",
       "      <th>장소/기간</th>\n",
       "      <th>평점</th>\n",
       "    </tr>\n",
       "  </thead>\n",
       "  <tbody>\n",
       "    <tr>\n",
       "      <th>0</th>\n",
       "      <td>뮤지컬 〈도리안 그레이〉</td>\n",
       "      <td>2025.03.30~2025.06.08 홍익대 대학로 아트센터 대극장</td>\n",
       "      <td>(5.4점/10점)</td>\n",
       "    </tr>\n",
       "    <tr>\n",
       "      <th>1</th>\n",
       "      <td>뮤지컬 〈긴긴밤〉</td>\n",
       "      <td>2025.03.12~2025.05.25 인터파크 서경스퀘어 스콘2관</td>\n",
       "      <td>(9.8점/10점)</td>\n",
       "    </tr>\n",
       "    <tr>\n",
       "      <th>2</th>\n",
       "      <td>뮤지컬 〈알라딘〉 한국 초연 (ALADDIN The Musical)</td>\n",
       "      <td>2024.11.22~2025.06.22 샤롯데씨어터</td>\n",
       "      <td>(9.3점/10점)</td>\n",
       "    </tr>\n",
       "  </tbody>\n",
       "</table>\n",
       "</div>"
      ],
      "text/plain": [
       "                                      제목  \\\n",
       "0                          뮤지컬 〈도리안 그레이〉   \n",
       "1                              뮤지컬 〈긴긴밤〉   \n",
       "2  뮤지컬 〈알라딘〉 한국 초연 (ALADDIN The Musical)   \n",
       "\n",
       "                                    장소/기간          평점  \n",
       "0  2025.03.30~2025.06.08 홍익대 대학로 아트센터 대극장  (5.4점/10점)  \n",
       "1   2025.03.12~2025.05.25 인터파크 서경스퀘어 스콘2관  (9.8점/10점)  \n",
       "2            2024.11.22~2025.06.22 샤롯데씨어터  (9.3점/10점)  "
      ]
     },
     "execution_count": 16,
     "metadata": {},
     "output_type": "execute_result"
    }
   ],
   "source": [
    "pd.DataFrame(score_list)"
   ]
  },
  {
   "cell_type": "code",
   "execution_count": 29,
   "id": "c2295e9b-9cbc-4c52-8d97-6f40b527de4c",
   "metadata": {},
   "outputs": [
    {
     "data": {
      "text/plain": [
       "'총2259명'"
      ]
     },
     "execution_count": 29,
     "metadata": {},
     "output_type": "execute_result"
    }
   ],
   "source": [
    "people = driver.find_element(By.XPATH, \"//*[contains(@style, 'color:#495692')]\")\n",
    "people.text"
   ]
  },
  {
   "cell_type": "code",
   "execution_count": 30,
   "id": "10c9e812-6556-4cdb-a02c-3f38aba34d10",
   "metadata": {},
   "outputs": [
    {
     "data": {
      "text/plain": [
       "('뮤지컬 〈알라딘〉 한국 초연 (ALADDIN The Musical)',\n",
       " '2024.11.22~2025.06.22 샤롯데씨어터',\n",
       " '총2259명',\n",
       " '(9.3점/10점)')"
      ]
     },
     "execution_count": 30,
     "metadata": {},
     "output_type": "execute_result"
    }
   ],
   "source": [
    "def search_sc(title):\n",
    "    music_elem = driver.find_element(By.ID, 'selGoodsName')\n",
    "    music_elem.send_keys(title)\n",
    "    score = driver.find_element(By.CLASS_NAME, \"textsmall\")\n",
    "    people = driver.find_element(By.XPATH, \"//*[contains(@style, 'color:#495692')]\")\n",
    "    u_element = driver.find_element(By.TAG_NAME, \"u\")\n",
    "    return title, u_element.text, people.text, score.text\n",
    "search_sc('뮤지컬 〈알라딘〉 한국 초연 (ALADDIN The Musical)')"
   ]
  },
  {
   "cell_type": "code",
   "execution_count": 31,
   "id": "cbb79f5d-3b7d-4d33-8674-fdf2d3acc170",
   "metadata": {},
   "outputs": [],
   "source": [
    "# 평점 리스트 만드는 함수\n",
    "def make_list(title_list):\n",
    "    score_list = []\n",
    "    for title in title_list:\n",
    "        score_dic = {}\n",
    "        score = search_sc(title)\n",
    "        score_dic['제목'] = score[0]\n",
    "        score_dic['장소/기간'] = score[1]\n",
    "        score_dic['참여자 수'] = score[2]\n",
    "        score_dic['평점'] = score[3]\n",
    "        time.sleep(7)\n",
    "        score_list.append(score_dic)\n",
    "    return score_list"
   ]
  },
  {
   "cell_type": "code",
   "execution_count": 42,
   "id": "b2f78a64-c50a-48ca-ad6b-7c360b0db6b5",
   "metadata": {},
   "outputs": [],
   "source": [
    "title_list = ['뮤지컬 〈도리안 그레이〉', '뮤지컬 〈긴긴밤〉', '뮤지컬 〈알라딘〉 한국 초연 (ALADDIN The Musical)']\n",
    "df = pd.DataFrame(make_list(title_list))"
   ]
  },
  {
   "cell_type": "code",
   "execution_count": 43,
   "id": "6d1047a8-9bac-458c-a4a3-f4640dadce45",
   "metadata": {},
   "outputs": [],
   "source": [
    "df.to_csv('crawl_data/뮤지컬평점.csv', index=False)"
   ]
  }
 ],
 "metadata": {
  "kernelspec": {
   "display_name": "Python 3 (ipykernel)",
   "language": "python",
   "name": "python3"
  },
  "language_info": {
   "codemirror_mode": {
    "name": "ipython",
    "version": 3
   },
   "file_extension": ".py",
   "mimetype": "text/x-python",
   "name": "python",
   "nbconvert_exporter": "python",
   "pygments_lexer": "ipython3",
   "version": "3.12.9"
  }
 },
 "nbformat": 4,
 "nbformat_minor": 5
}
