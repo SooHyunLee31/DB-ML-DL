{
 "cells": [
  {
   "cell_type": "markdown",
   "metadata": {},
   "source": [
    "# 정적크롤링 실습2. 뉴스기사 크롤링"
   ]
  },
  {
   "cell_type": "code",
   "execution_count": 1,
   "metadata": {},
   "outputs": [],
   "source": [
    "import requests\n",
    "from urllib.request import urlopen\n",
    "from bs4 import BeautifulSoup"
   ]
  },
  {
   "cell_type": "markdown",
   "metadata": {},
   "source": [
    "#### 크롤링 단계\n",
    "\n",
    "1. 크롤링하려는 HTML 페이지의 구조와 코드 살펴보기\n",
    "    - F12 (구글 크롬 개발자도구) : URL주소, 태그 확인\n",
    "2. 문서 내용 읽어오기 : \n",
    "    - html = urllib.request.urlopen(URL주소).read()\n",
    "    - html = requests.get(url주소).text\n",
    "3. 원하는 내용 추출하기(parsing)\n",
    "    - soup = bs4.BeautifulSoup(html, 'html.parser')\n",
    "    - soup.find_all(찾아낼태그)\n",
    "    - 동일한 태그가 여러 개인 경우 class 속성 사용"
   ]
  },
  {
   "cell_type": "markdown",
   "metadata": {},
   "source": [
    "### 1. 뉴스 머리기사 제목 크롤링"
   ]
  },
  {
   "cell_type": "markdown",
   "metadata": {},
   "source": [
    "- 목적 : 다음 뉴스의 헤드라인 뉴스 제목 크롤링 (https://news.daum.net/)"
   ]
  },
  {
   "cell_type": "markdown",
   "metadata": {},
   "source": [
    "#### 단계1. HTML 페이지 살펴보기"
   ]
  },
  {
   "cell_type": "markdown",
   "metadata": {},
   "source": [
    "#### 단계2. 문서 내용 읽어오기"
   ]
  },
  {
   "cell_type": "code",
   "execution_count": 25,
   "metadata": {},
   "outputs": [],
   "source": [
    "url = 'https://news.daum.net/'\n",
    "html = urlopen(url).read()\n",
    "soup = BeautifulSoup(html, 'html.parser')"
   ]
  },
  {
   "cell_type": "code",
   "execution_count": 27,
   "metadata": {},
   "outputs": [],
   "source": [
    "news = soup.find('ul', {'class':'list_newsheadline2'})"
   ]
  },
  {
   "attachments": {},
   "cell_type": "markdown",
   "metadata": {},
   "source": [
    "#### 단계3. 원하는 내용 추출하기(parsing)\n",
    "\n",
    ": 뉴스 머리기사 제목 추출\n",
    "\n",
    "- 머리기사 제목에 해당하는 태그와 속성값 확인\n",
    "- 개발자도구의 콘솔(console)창을 기사의 제목 일부를 입력하여 검색"
   ]
  },
  {
   "cell_type": "code",
   "execution_count": 54,
   "metadata": {},
   "outputs": [
    {
     "data": {
      "text/plain": [
       "[<strong class=\"tit_txt\">세계문화유산 하회마을·병산서원 연기 접근…다시 초긴장(종합)</strong>,\n",
       " <strong class=\"tit_txt\">미숙대처가 피해키웠다…갈피 못잡는 재난문자·뒷북대응(종합)</strong>,\n",
       " <strong class=\"tit_txt\">[르포] 통신 끊기고 한치 앞 안보여…재난영화 방불케 한 안동</strong>,\n",
       " <strong class=\"tit_txt\">한미약품, 전문경영인 돛 올렸다…\"더이상 분쟁은 없어\"(종합)</strong>,\n",
       " <strong class=\"tit_txt\">안동서 본 산불···“이렇게 빠른 속도 처음, 60대 주민 걱정”</strong>,\n",
       " <strong class=\"tit_txt\">[단독]\"분진으로 폐질환, 왜 경고 안 했어요?\"…5조 소송 위기에 몰렸다</strong>,\n",
       " <strong class=\"tit_txt\">산불 되살아나 10개 마을 대피령‥이 시각 울주</strong>,\n",
       " <strong class=\"tit_txt\">실버타운 입소자도 대피하다 참변…뒤늦은 재난문자, 산불 피해 키웠나</strong>,\n",
       " <strong class=\"tit_txt\">‘괴물 산불’로 22명 사망, 19명 부상... 2만7000명 대피</strong>]"
      ]
     },
     "execution_count": 54,
     "metadata": {},
     "output_type": "execute_result"
    }
   ],
   "source": [
    "news_tit = news.find_all('strong',{'class':'tit_txt'})\n",
    "news_tit"
   ]
  },
  {
   "cell_type": "markdown",
   "metadata": {},
   "source": [
    "#### 반복문으로 기사 제목 모두 추출하기"
   ]
  },
  {
   "cell_type": "code",
   "execution_count": 34,
   "metadata": {},
   "outputs": [
    {
     "data": {
      "text/plain": [
       "['세계문화유산 하회마을·병산서원 연기 접근…다시 초긴장(종합)',\n",
       " '미숙대처가 피해키웠다…갈피 못잡는 재난문자·뒷북대응(종합)',\n",
       " '[르포] 통신 끊기고 한치 앞 안보여…재난영화 방불케 한 안동',\n",
       " '한미약품, 전문경영인 돛 올렸다…\"더이상 분쟁은 없어\"(종합)',\n",
       " '안동서 본 산불···“이렇게 빠른 속도 처음, 60대 주민 걱정”',\n",
       " '[단독]\"분진으로 폐질환, 왜 경고 안 했어요?\"…5조 소송 위기에 몰렸다',\n",
       " '산불 되살아나 10개 마을 대피령‥이 시각 울주',\n",
       " '실버타운 입소자도 대피하다 참변…뒤늦은 재난문자, 산불 피해 키웠나',\n",
       " '‘괴물 산불’로 22명 사망, 19명 부상... 2만7000명 대피']"
      ]
     },
     "execution_count": 34,
     "metadata": {},
     "output_type": "execute_result"
    }
   ],
   "source": [
    "title_list = [t.text for t in news_tit]\n",
    "title_list"
   ]
  },
  {
   "cell_type": "markdown",
   "metadata": {},
   "source": [
    "언론사"
   ]
  },
  {
   "cell_type": "code",
   "execution_count": 55,
   "metadata": {},
   "outputs": [
    {
     "data": {
      "text/plain": [
       "['연합뉴스', '연합뉴스', '연합뉴스', '뉴시스', '서울경제', '아시아경제', 'MBC', '문화일보', '조선일보']"
      ]
     },
     "execution_count": 55,
     "metadata": {},
     "output_type": "execute_result"
    }
   ],
   "source": [
    "news_info = news.find_all('span',{'class':'txt_info'})[::2]\n",
    "info_list = [i.text for i in news_info]\n",
    "info_list"
   ]
  },
  {
   "cell_type": "code",
   "execution_count": 61,
   "metadata": {},
   "outputs": [
    {
     "data": {
      "text/plain": [
       "{'기사제목': ['세계문화유산 하회마을·병산서원 연기 접근…다시 초긴장(종합)',\n",
       "  '미숙대처가 피해키웠다…갈피 못잡는 재난문자·뒷북대응(종합)',\n",
       "  '[르포] 통신 끊기고 한치 앞 안보여…재난영화 방불케 한 안동',\n",
       "  '한미약품, 전문경영인 돛 올렸다…\"더이상 분쟁은 없어\"(종합)',\n",
       "  '안동서 본 산불···“이렇게 빠른 속도 처음, 60대 주민 걱정”',\n",
       "  '[단독]\"분진으로 폐질환, 왜 경고 안 했어요?\"…5조 소송 위기에 몰렸다',\n",
       "  '산불 되살아나 10개 마을 대피령‥이 시각 울주',\n",
       "  '실버타운 입소자도 대피하다 참변…뒤늦은 재난문자, 산불 피해 키웠나',\n",
       "  '‘괴물 산불’로 22명 사망, 19명 부상... 2만7000명 대피'],\n",
       " '언론사': ['연합뉴스',\n",
       "  '연합뉴스',\n",
       "  '연합뉴스',\n",
       "  '뉴시스',\n",
       "  '서울경제',\n",
       "  '아시아경제',\n",
       "  'MBC',\n",
       "  '문화일보',\n",
       "  '조선일보']}"
      ]
     },
     "execution_count": 61,
     "metadata": {},
     "output_type": "execute_result"
    }
   ],
   "source": [
    "news_dic = {'기사제목': title_list, '언론사': info_list}\n",
    "news_dic"
   ]
  },
  {
   "cell_type": "markdown",
   "metadata": {},
   "source": [
    "### 2. 뉴스 기사 하이퍼링크 주소 추출하기"
   ]
  },
  {
   "cell_type": "markdown",
   "metadata": {},
   "source": [
    "- 뉴스기사 페이지로 이동하는 \\<a\\>태그의 하이퍼링크 주소 가져오기"
   ]
  },
  {
   "cell_type": "code",
   "execution_count": 68,
   "metadata": {},
   "outputs": [],
   "source": [
    "links = news.find_all('a', {'class':'item_newsheadline2'})"
   ]
  },
  {
   "cell_type": "code",
   "execution_count": 70,
   "metadata": {},
   "outputs": [],
   "source": [
    "# 하이퍼링크태그의 href 속성값 가져오기 : 태그객체['href'] 또는 태그객체.get('href')\n",
    "link_list = [l['href'] for l in links]"
   ]
  },
  {
   "cell_type": "markdown",
   "metadata": {},
   "source": [
    "#### 문제. 다음 뉴스 머리기사의 언론사, 제목, 링크를 크롤링하고 그 결과를 데이터프레임으로 생성하기"
   ]
  },
  {
   "cell_type": "code",
   "execution_count": 73,
   "metadata": {},
   "outputs": [
    {
     "data": {
      "text/html": [
       "<div>\n",
       "<style scoped>\n",
       "    .dataframe tbody tr th:only-of-type {\n",
       "        vertical-align: middle;\n",
       "    }\n",
       "\n",
       "    .dataframe tbody tr th {\n",
       "        vertical-align: top;\n",
       "    }\n",
       "\n",
       "    .dataframe thead th {\n",
       "        text-align: right;\n",
       "    }\n",
       "</style>\n",
       "<table border=\"1\" class=\"dataframe\">\n",
       "  <thead>\n",
       "    <tr style=\"text-align: right;\">\n",
       "      <th></th>\n",
       "      <th>언론사</th>\n",
       "      <th>뉴스제목</th>\n",
       "      <th>기사링크</th>\n",
       "    </tr>\n",
       "  </thead>\n",
       "  <tbody>\n",
       "    <tr>\n",
       "      <th>0</th>\n",
       "      <td>뉴시스</td>\n",
       "      <td>한미약품, 전문경영인 돛 올렸다…김재교 \"안정화 주력\"(종합2보)</td>\n",
       "      <td>https://v.daum.net/v/20250326121518406</td>\n",
       "    </tr>\n",
       "    <tr>\n",
       "      <th>1</th>\n",
       "      <td>MBC</td>\n",
       "      <td>의성 산불, 경북 북부 집어삼켰다‥이 시각 영양</td>\n",
       "      <td>https://v.daum.net/v/20250326120716175</td>\n",
       "    </tr>\n",
       "    <tr>\n",
       "      <th>2</th>\n",
       "      <td>프레시안</td>\n",
       "      <td>국민의힘, 산불에 헌재 앞 시위 중단…野에 '정쟁 멈추자' 제안</td>\n",
       "      <td>https://v.daum.net/v/20250326120308036</td>\n",
       "    </tr>\n",
       "    <tr>\n",
       "      <th>3</th>\n",
       "      <td>연합뉴스</td>\n",
       "      <td>[르포] 불에 탄 천년고찰…고운사 찾은 신도들 눈물로 기도(종합)</td>\n",
       "      <td>https://v.daum.net/v/20250326120252013</td>\n",
       "    </tr>\n",
       "    <tr>\n",
       "      <th>4</th>\n",
       "      <td>뉴스1</td>\n",
       "      <td>[주총] KT&amp;G, 쟁점 됐던 '사장 집중투표제 배제' 원안대로 통과(종합)</td>\n",
       "      <td>https://v.daum.net/v/20250326120131945</td>\n",
       "    </tr>\n",
       "    <tr>\n",
       "      <th>5</th>\n",
       "      <td>뉴스1</td>\n",
       "      <td>울산 언양 산불 20시간 만에 주불 진화…4628명 대피(종합)</td>\n",
       "      <td>https://v.daum.net/v/20250326114943399</td>\n",
       "    </tr>\n",
       "    <tr>\n",
       "      <th>6</th>\n",
       "      <td>뉴시스</td>\n",
       "      <td>與, 천안함 15주기 안보 행보…\"민주, 자폭설 지금까지 사과 없어\"(종합)</td>\n",
       "      <td>https://v.daum.net/v/20250326114708331</td>\n",
       "    </tr>\n",
       "    <tr>\n",
       "      <th>7</th>\n",
       "      <td>YTN</td>\n",
       "      <td>사망자 대부분 고령층...\"인명·시설 보호 주력\"</td>\n",
       "      <td>https://v.daum.net/v/20250326114616310</td>\n",
       "    </tr>\n",
       "    <tr>\n",
       "      <th>8</th>\n",
       "      <td>아시아경제</td>\n",
       "      <td>\"엔비디아만 있는 것 아냐\"…AI 기업 각축전 벌인 컨퍼런스(종합)</td>\n",
       "      <td>https://v.daum.net/v/20250326113415785</td>\n",
       "    </tr>\n",
       "  </tbody>\n",
       "</table>\n",
       "</div>"
      ],
      "text/plain": [
       "     언론사                                        뉴스제목                                    기사링크\n",
       "0    뉴시스        한미약품, 전문경영인 돛 올렸다…김재교 \"안정화 주력\"(종합2보)  https://v.daum.net/v/20250326121518406\n",
       "1    MBC                  의성 산불, 경북 북부 집어삼켰다‥이 시각 영양  https://v.daum.net/v/20250326120716175\n",
       "2   프레시안         국민의힘, 산불에 헌재 앞 시위 중단…野에 '정쟁 멈추자' 제안  https://v.daum.net/v/20250326120308036\n",
       "3   연합뉴스        [르포] 불에 탄 천년고찰…고운사 찾은 신도들 눈물로 기도(종합)  https://v.daum.net/v/20250326120252013\n",
       "4    뉴스1  [주총] KT&G, 쟁점 됐던 '사장 집중투표제 배제' 원안대로 통과(종합)  https://v.daum.net/v/20250326120131945\n",
       "5    뉴스1         울산 언양 산불 20시간 만에 주불 진화…4628명 대피(종합)  https://v.daum.net/v/20250326114943399\n",
       "6    뉴시스  與, 천안함 15주기 안보 행보…\"민주, 자폭설 지금까지 사과 없어\"(종합)  https://v.daum.net/v/20250326114708331\n",
       "7    YTN                 사망자 대부분 고령층...\"인명·시설 보호 주력\"  https://v.daum.net/v/20250326114616310\n",
       "8  아시아경제       \"엔비디아만 있는 것 아냐\"…AI 기업 각축전 벌인 컨퍼런스(종합)  https://v.daum.net/v/20250326113415785"
      ]
     },
     "execution_count": 73,
     "metadata": {},
     "output_type": "execute_result"
    }
   ],
   "source": [
    "import requests\n",
    "from urllib.request import urlopen\n",
    "from bs4 import BeautifulSoup\n",
    "import pandas as pd\n",
    "\n",
    "# 단계1. 페이지 읽기\n",
    "url = 'https://news.daum.net/'\n",
    "html = urlopen(url).read()\n",
    "soup = BeautifulSoup(html, 'html.parser')\n",
    "\n",
    "# 단계2. 파싱\n",
    "news = soup.find('ul', {'class':'list_newsheadline2'}) # 주요뉴스 블록\n",
    "news_tit = news.find_all('strong',{'class':'tit_txt'}) # 뉴스제목\n",
    "news_info = news.find_all('span',{'class':'txt_info'})[::2] # 언론사\n",
    "links = news.find_all('a', {'class':'item_newsheadline2'}) # 뉴스 상세 페이지 링크\n",
    "title_list = [t.text for t in news_tit]\n",
    "media_list = [i.text for i in news_info]\n",
    "link_list = [l['href'] for l in links]\n",
    "\n",
    "# 단계3. 데이터프레임으로 저장 후 csv파일저장\n",
    "news_df = pd.DataFrame(data={'언론사':media_list, '뉴스제목':title_list, '기사링크':link_list})\n",
    "news_df.to_csv('crawl_data/daum_headline_news.csv', index=False)\n",
    "news_df"
   ]
  },
  {
   "cell_type": "markdown",
   "metadata": {},
   "source": [
    "------"
   ]
  },
  {
   "cell_type": "markdown",
   "metadata": {},
   "source": [
    "### 3. 기사제목과 내용 한꺼번에 추출하기 "
   ]
  },
  {
   "cell_type": "markdown",
   "metadata": {},
   "source": [
    "#### 기사제목과 내용이 있는 태그 확인"
   ]
  },
  {
   "cell_type": "code",
   "execution_count": 74,
   "metadata": {},
   "outputs": [
    {
     "data": {
      "text/plain": [
       "['https://v.daum.net/v/20250326121518406',\n",
       " 'https://v.daum.net/v/20250326120716175',\n",
       " 'https://v.daum.net/v/20250326120308036',\n",
       " 'https://v.daum.net/v/20250326120252013',\n",
       " 'https://v.daum.net/v/20250326120131945',\n",
       " 'https://v.daum.net/v/20250326114943399',\n",
       " 'https://v.daum.net/v/20250326114708331',\n",
       " 'https://v.daum.net/v/20250326114616310',\n",
       " 'https://v.daum.net/v/20250326113415785']"
      ]
     },
     "execution_count": 74,
     "metadata": {},
     "output_type": "execute_result"
    }
   ],
   "source": [
    "link_list"
   ]
  },
  {
   "cell_type": "code",
   "execution_count": 123,
   "metadata": {},
   "outputs": [],
   "source": [
    "# 단계1. 페이지 읽기\n",
    "url = link_list[0]\n",
    "html = urlopen(url).read()\n",
    "soup = BeautifulSoup(html, 'html.parser')"
   ]
  },
  {
   "cell_type": "code",
   "execution_count": 142,
   "metadata": {},
   "outputs": [],
   "source": [
    "# 단계2. 파싱\n",
    "title = soup.find('h3', {'class':'tit_view'}).text # 기사 제목\n",
    "author = soup.find('span',{'class':'txt_info'}).text # 기자 이름\n",
    "date = soup.find('span',{'class':'num_date'}).text # 기사 날짜\n",
    "p_tags = soup.find('p',{'dmcf-ptype':'general'}).text # 기사 본문\n",
    "p_tags = soup.select('#mArticle > div.news_view.fs_type1 > div.article_view > section > p') # 기사 본문"
   ]
  },
  {
   "cell_type": "code",
   "execution_count": 148,
   "metadata": {
    "scrolled": true
   },
   "outputs": [
    {
     "name": "stdout",
     "output_type": "stream",
     "text": [
      " [서울=뉴시스]송연주 기자 = 1년여 경영권 분쟁이 종식 단계에 이른 한미약품그룹이 전문경영인 체제 구축을 본격화했다.\n",
      "26일 한미사이언스 정기주주총회 후 열린 이사회에서 지주사 한미사이언스의 대표이사로 선임된 김재표 대표는 기자들과 만나 “불안했던 체제를 안정화하는 데 최선을 다하겠다”고 밝혔다.\n",
      "이날 송영숙 한미약품그룹 회장은 한미사이언스 사내이사 및 대표이사에서 사임했다. \n",
      "김 대표는 “한미사이언스의 전문경영인 체제 구축은 처음인 것으로 안다”며 “불안했던 체제를 안정화해 기대에 부응하겠다”고 말했다. \n",
      "이어 “신약 연구개발(R&D)에 최선을 다할 것이고 선대 회장의 도전 철학을 바탕으로 혁신을 이뤄갈 것”이라며 “R&D를 효율성있게 구현하는 방법이 핵심적인 고민 사항이다. 효율적인 전략을 펼치겠다”고 말했다. \n",
      "김 대표는 1990년 유한양행에 입사해 경영기획, 글로벌 전략, 인수합병, 기술 수출 등 투자 업무를 30년간 총괄했다. 2021년 메리츠증권에 합류해 바이오벤처를 발굴하고 육성하는 IND 본부를 이끌었다. 한미에서 전문성과 글로벌 네트워크를 토대로 글로벌 시장으로 확대하는 데 앞장 설 예정이다. \n",
      "이날 한미사이언스 주총에선 임주현(한미사이언스·한미약품 부회장), 김재교(전 메리츠증권 부사장), 심병화(전 삼성바이오로직스 상무), 김성훈(전 한미사이언스 상무) 등 4명의 사내이사 후보와 최현만(전 미래에셋증권 대표이사), 김영훈(전 서울고법 판사), 신용삼(가톨릭대 서울성모병원 교수) 등 3명의 사외이사 후보 선임 안건이 원안대로 통과됐다.\n",
      "같은 날 한미약품도 주총에서 최인영(한미약품 R&D센터장) 사내이사, 김재교(전 메리츠증권 부사장) 기타비상무이사, 이영구(법무법인 대륙아주 대표변호사) 사외이사를 선임했다.\n",
      "송영숙 한미약품그룹 회장은 이날 ‘인사 글’을 통해 “한미약품그룹에 더 이상의 분쟁은 없다”며 “어려웠던 지난 시간을 오늘 이후로 모두 털어내고 오직 주주가치 제고만을 위한 길을 걷는 뉴 한미의 여정을 시작하고자 한다”고 말했다. \n",
      "이어 “한국의 기업 경영 환경에서는 볼 수 없었던 선진적 전문경영인 체제를 도입하고 대주주는 이사회 구성원으로서 이들을 물심양면 지원하고 관리감독하는 본연의 역할에 집중해 나갈 것”이라며 “오늘 주주총회를 통해 새롭게 선임될 신규 이사진은 제약바이오 산업뿐 아니라 경영과 의료, 자본 시장 등 분야에서 최고의 역량을 발휘해 오신 분들”이라고 말했다.\n",
      "그는 “대주주들의 합심과 이사회의 탄탄한 지원, 전문경영인들의 자유로운 역량 발휘가 조화를 이뤄 한미약품그룹은 글로벌 기업으로 비상할 것임을 주주님들께 약속드린다”며 “지주회사 한미사이언스가 이러한 여정을 이끄는 선장이 돼 한미약품을 비롯한 각 계열회사의 비상을 반드시 이뤄낼 것”이라고 말했다.\n",
      "이날 박재현 한미약품 대표도 “한미약품은 비만 치료 분야에서 앞선 기술력을 바탕으로 상용화를 앞전에 두고 있다”며 “2025년에는 완전히 달라진 한미의 모습 주주들에 보여드리겠다. R&D에서도 연구를 위한 연구 아닌 성과를 위한 연구로 방향을 전환해 가시적인 신약 성과로 보답하겠다”고 말했다. \n",
      "☞공감언론 뉴시스 songyj@newsis.com \n"
     ]
    }
   ],
   "source": [
    "article = '\\n'.join([t.text for t in p_tags])\n",
    "print(article)"
   ]
  },
  {
   "cell_type": "code",
   "execution_count": 151,
   "metadata": {},
   "outputs": [],
   "source": [
    "def extract_news_page(url):\n",
    "    html = urlopen(url).read()\n",
    "    soup = BeautifulSoup(html, 'html.parser')\n",
    "    title = soup.find('h3', {'class':'tit_view'}).text # 기사 제목\n",
    "    author = soup.find('span',{'class':'txt_info'}).text # 기자 이름\n",
    "    date = soup.find('span',{'class':'num_date'}).text # 기사 날짜\n",
    "    p_tags = soup.select('#mArticle > div.news_view.fs_type1 > div.article_view > section > p') # 기사 본문\n",
    "    article = '\\n'.join([t.text for t in p_tags])\n",
    "    return title, author, date, article"
   ]
  },
  {
   "cell_type": "code",
   "execution_count": 152,
   "metadata": {
    "scrolled": true
   },
   "outputs": [
    {
     "data": {
      "text/plain": [
       "('의성 산불, 경북 북부 집어삼켰다‥이 시각 영양',\n",
       " '엄지원',\n",
       " '2025. 3. 26. 12:07',\n",
       " ' [정오뉴스]\\n◀ 앵커 ▶\\n닷새 전 경북 의성에서 발생한 대형산불이 어제 안동을 비롯해 청송, 영양, 영덕까지 경북 북부권을 집어삼켰습니다.\\n밤사이 최소 18명이 숨진 걸로 파악됐습니다.\\n산불 피해현장 연결합니다.\\n엄지원 기자, 현장 상황 전해주시죠.\\n◀ 기자 ▶\\n네. 저는 밤사이 6명의 사망자가 발생한 경북 영양군 석보면에 나와 있습니다. \\n인근 마을에선 어젯밤 4명이 숨진 채 발견되기도 했는데요.\\n지금 제 뒤로 보시는 것처럼 주택들이 불에 타 모두 무너져 내렸습니다.\\n또 곳곳에 통신장애가 발생해 인터넷이나 전화 연결이 쉽지 않은 상황입니다.\\n닷새 전, 경북 의성에서 난 산불은 사흘 만에 안동으로 옮겨붙더니 어제 밤사이 순식간에 청송과 영양을 지나, 영덕 동해안까지 경북 5개 시군으로 확산됐습니다.\\n반나절 사이 직선거리로 무려 50km 이상을 순식간에 동진한 겁니다.\\n손 쓸 틈도 없이 빠르게 번진 산불로 인명 피해 우려도 커지고 있습니다. \\n산림 당국은 이번 산불로 최소 18명의 사망자가 발생한 것으로 추산하고 있습니다.\\n사망자들은 대피 과정에서 차량이 폭발하거나 전복돼 고립된 뒤 산불 지대를 미처 빠져나오지 못한 것으로 추정되고 있습니다.\\n또한 주거지 안팎에서 질식해 숨진 사망자도 다수 있는 것으로 파악됐습니다.\\n경북도는 밤새 산불을 피해 청송군에서만 1만여 명, 영덕과 안동 각각 4천여 명 등 7개 시군에서 2만 3천여 명이 대피한 것으로 추산했습니다.\\n법무부는 산불 길목에 있던 청송 경북북부 제2교도소 수용자 5백여 명을 밤사이 다른 지역의 교정기관으로 긴급 이감했다고 밝혔습니다.\\n이번 산불로 신라 천년 고찰인 의성 고운사가 전소됐고, 세계문화유산인 안동 하회마을과 병산서원, 봉정사도 산불이 넘어오는 걸 막기 위해 총력을 기울이고 있습니다.\\n산불 현장의 바람은 점차 잦아들고 있는데요.\\n오후부터 다시 초속 10m 이상의 돌풍이 불 것으로 예보돼 진화 현장에선 오전 중 진화율을 최대한 높이는 데 주력하고 있습니다.\\n고속도로 상주에서 영덕까지 구간과 예천에서 의성까지 구간 등 경북 북부를 교차하는 2개 고속도로 150여km 구간은 이틀째 전면 통제 중입니다. \\n안동을 지나는 중앙선 고속철도와 동해선 열차도 운행이 전면 중단됐습니다.\\n지금까지 영양 산불 피해 현장에서 MBC뉴스 엄지원입니다. MBC 뉴스는 24시간 여러분의 제보를 기다립니다. \\n▷ 전화 02-784-4000 ▷ 이메일 mbcjebo@mbc.co.kr ▷ 카카오톡 @mbc제보\\n엄지원 기자(umkija@andongmbc.co.kr)\\n기사 원문 - https://imnews.imbc.com/replay/2025/nw1200/article/6699828_36769.html ')"
      ]
     },
     "execution_count": 152,
     "metadata": {},
     "output_type": "execute_result"
    }
   ],
   "source": [
    "url = link_list[1]\n",
    "extract_news_page(url)"
   ]
  },
  {
   "cell_type": "markdown",
   "metadata": {},
   "source": [
    "### 4. 하이퍼링크된 모든 기사의 제목과 본문 추출하기"
   ]
  },
  {
   "cell_type": "code",
   "execution_count": 156,
   "metadata": {},
   "outputs": [],
   "source": [
    "def print_news_page(url):\n",
    "    title, author, date, article = extract_news_page(url)\n",
    "    print(f'기사제목:{title}\\n{author}기자 {date}\\n\\n{article}')\n",
    "    print('================================================\\n')\n",
    "    \n",
    "# for url in link_list:\n",
    "#     print_news_page(url)"
   ]
  },
  {
   "cell_type": "code",
   "execution_count": 163,
   "metadata": {},
   "outputs": [],
   "source": [
    "def all_news_page_data(url_list):\n",
    "    title_list, author_list, date_list, article_list = [],[],[],[]\n",
    "    for url in url_list:\n",
    "        title, author, date, article = extract_news_page(url)\n",
    "        title_list.append(title)\n",
    "        author_list.append(author)\n",
    "        date_list.append(date)\n",
    "        article_list.append(article)\n",
    "    return {'title':title_list, 'author':author_list, 'date':date_list, 'article':article_list, 'link':url_list}"
   ]
  },
  {
   "cell_type": "code",
   "execution_count": 164,
   "metadata": {},
   "outputs": [
    {
     "data": {
      "text/html": [
       "<div>\n",
       "<style scoped>\n",
       "    .dataframe tbody tr th:only-of-type {\n",
       "        vertical-align: middle;\n",
       "    }\n",
       "\n",
       "    .dataframe tbody tr th {\n",
       "        vertical-align: top;\n",
       "    }\n",
       "\n",
       "    .dataframe thead th {\n",
       "        text-align: right;\n",
       "    }\n",
       "</style>\n",
       "<table border=\"1\" class=\"dataframe\">\n",
       "  <thead>\n",
       "    <tr style=\"text-align: right;\">\n",
       "      <th></th>\n",
       "      <th>title</th>\n",
       "      <th>author</th>\n",
       "      <th>date</th>\n",
       "      <th>article</th>\n",
       "      <th>link</th>\n",
       "    </tr>\n",
       "  </thead>\n",
       "  <tbody>\n",
       "    <tr>\n",
       "      <th>0</th>\n",
       "      <td>한미약품, 전문경영인 돛 올렸다…김재교 \"안정화 주력\"(종합2보)</td>\n",
       "      <td>송연주 기자</td>\n",
       "      <td>2025. 3. 26. 12:15</td>\n",
       "      <td>[서울=뉴시스]송연주 기자 = 1년여 경영권 분쟁이 종식 단계에 이른 한미약품그룹...</td>\n",
       "      <td>https://v.daum.net/v/20250326121518406</td>\n",
       "    </tr>\n",
       "    <tr>\n",
       "      <th>1</th>\n",
       "      <td>의성 산불, 경북 북부 집어삼켰다‥이 시각 영양</td>\n",
       "      <td>엄지원</td>\n",
       "      <td>2025. 3. 26. 12:07</td>\n",
       "      <td>[정오뉴스]\\n◀ 앵커 ▶\\n닷새 전 경북 의성에서 발생한 대형산불이 어제 안동을...</td>\n",
       "      <td>https://v.daum.net/v/20250326120716175</td>\n",
       "    </tr>\n",
       "    <tr>\n",
       "      <th>2</th>\n",
       "      <td>국민의힘, 산불에 헌재 앞 시위 중단…野에 '정쟁 멈추자' 제안</td>\n",
       "      <td>한예섭 기자</td>\n",
       "      <td>2025. 3. 26. 12:03</td>\n",
       "      <td>국민의힘이 정치권의 산불 재난 대응을 촉구하며 정쟁 중단을 선언했다. 당 대표인 권...</td>\n",
       "      <td>https://v.daum.net/v/20250326120308036</td>\n",
       "    </tr>\n",
       "    <tr>\n",
       "      <th>3</th>\n",
       "      <td>[르포] 불에 탄 천년고찰…고운사 찾은 신도들 눈물로 기도(종합)</td>\n",
       "      <td>이주형</td>\n",
       "      <td>2025. 3. 26. 12:02</td>\n",
       "      <td>(의성=연합뉴스) 이주형 기자 = \"고즈넉했던 누각이 지금은 전쟁터 같니더. 어쩌면...</td>\n",
       "      <td>https://v.daum.net/v/20250326120252013</td>\n",
       "    </tr>\n",
       "    <tr>\n",
       "      <th>4</th>\n",
       "      <td>[주총] KT&amp;G, 쟁점 됐던 '사장 집중투표제 배제' 원안대로 통과(종합)</td>\n",
       "      <td>이형진 기자</td>\n",
       "      <td>2025. 3. 26. 12:01</td>\n",
       "      <td>(대전=뉴스1) 이형진 기자 = KT&amp;G(033780)는 26일 주주총회에서 가장 ...</td>\n",
       "      <td>https://v.daum.net/v/20250326120131945</td>\n",
       "    </tr>\n",
       "    <tr>\n",
       "      <th>5</th>\n",
       "      <td>울산 언양 산불 20시간 만에 주불 진화…4628명 대피(종합)</td>\n",
       "      <td>조민주 기자</td>\n",
       "      <td>2025. 3. 26. 11:49</td>\n",
       "      <td>(울산=뉴스1) 조민주 기자 = 울산 울주군 언양읍에서 발생한 산불이 20시간여 만...</td>\n",
       "      <td>https://v.daum.net/v/20250326114943399</td>\n",
       "    </tr>\n",
       "    <tr>\n",
       "      <th>6</th>\n",
       "      <td>與, 천안함 15주기 안보 행보…\"민주, 자폭설 지금까지 사과 없어\"(종합)</td>\n",
       "      <td>이재우 기자</td>\n",
       "      <td>2025. 3. 26. 11:47</td>\n",
       "      <td>[서울=뉴시스] 이재우 하지현 한재혁 기자 = 국민의힘은 천안함 피격사건 15주기인...</td>\n",
       "      <td>https://v.daum.net/v/20250326114708331</td>\n",
       "    </tr>\n",
       "    <tr>\n",
       "      <th>7</th>\n",
       "      <td>사망자 대부분 고령층...\"인명·시설 보호 주력\"</td>\n",
       "      <td>김근우</td>\n",
       "      <td>2025. 3. 26. 11:46</td>\n",
       "      <td>[앵커] \\n경북 의성에서 시작된 대형 산불이 어제(25일) 강풍을 타고 경북 북부...</td>\n",
       "      <td>https://v.daum.net/v/20250326114616310</td>\n",
       "    </tr>\n",
       "    <tr>\n",
       "      <th>8</th>\n",
       "      <td>\"엔비디아만 있는 것 아냐\"…AI 기업 각축전 벌인 컨퍼런스(종합)</td>\n",
       "      <td>김보경</td>\n",
       "      <td>2025. 3. 26. 11:34</td>\n",
       "      <td>첫 발표를 맡은 엔비디아코리아의 정소영 대표는 매년 성능이 향상된 AI 반도체를 출...</td>\n",
       "      <td>https://v.daum.net/v/20250326113415785</td>\n",
       "    </tr>\n",
       "  </tbody>\n",
       "</table>\n",
       "</div>"
      ],
      "text/plain": [
       "                                        title  ...                                    link\n",
       "0        한미약품, 전문경영인 돛 올렸다…김재교 \"안정화 주력\"(종합2보)  ...  https://v.daum.net/v/20250326121518406\n",
       "1                  의성 산불, 경북 북부 집어삼켰다‥이 시각 영양  ...  https://v.daum.net/v/20250326120716175\n",
       "2         국민의힘, 산불에 헌재 앞 시위 중단…野에 '정쟁 멈추자' 제안  ...  https://v.daum.net/v/20250326120308036\n",
       "3        [르포] 불에 탄 천년고찰…고운사 찾은 신도들 눈물로 기도(종합)  ...  https://v.daum.net/v/20250326120252013\n",
       "4  [주총] KT&G, 쟁점 됐던 '사장 집중투표제 배제' 원안대로 통과(종합)  ...  https://v.daum.net/v/20250326120131945\n",
       "5         울산 언양 산불 20시간 만에 주불 진화…4628명 대피(종합)  ...  https://v.daum.net/v/20250326114943399\n",
       "6  與, 천안함 15주기 안보 행보…\"민주, 자폭설 지금까지 사과 없어\"(종합)  ...  https://v.daum.net/v/20250326114708331\n",
       "7                 사망자 대부분 고령층...\"인명·시설 보호 주력\"  ...  https://v.daum.net/v/20250326114616310\n",
       "8       \"엔비디아만 있는 것 아냐\"…AI 기업 각축전 벌인 컨퍼런스(종합)  ...  https://v.daum.net/v/20250326113415785\n",
       "\n",
       "[9 rows x 5 columns]"
      ]
     },
     "execution_count": 164,
     "metadata": {},
     "output_type": "execute_result"
    }
   ],
   "source": [
    "news_dict = all_news_page_data(link_list).copy()\n",
    "news_df = pd.DataFrame(data=news_dict)\n",
    "news_df.to_csv('crawl_data/daum_news_pages.csv', index=False)\n",
    "news_df"
   ]
  },
  {
   "cell_type": "markdown",
   "metadata": {},
   "source": [
    "-------"
   ]
  }
 ],
 "metadata": {
  "kernelspec": {
   "display_name": "Python 3 (ipykernel)",
   "language": "python",
   "name": "python3"
  },
  "language_info": {
   "codemirror_mode": {
    "name": "ipython",
    "version": 3
   },
   "file_extension": ".py",
   "mimetype": "text/x-python",
   "name": "python",
   "nbconvert_exporter": "python",
   "pygments_lexer": "ipython3",
   "version": "3.12.9"
  }
 },
 "nbformat": 4,
 "nbformat_minor": 4
}
