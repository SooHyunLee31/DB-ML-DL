{
 "cells": [
  {
   "cell_type": "markdown",
   "metadata": {},
   "source": [
    "## 정적크롤링 실습1. 명언 수집"
   ]
  },
  {
   "cell_type": "markdown",
   "metadata": {},
   "source": [
    "- 명언을 제공하는 웹사이트에서 'life'관련 명언을 스크랩하여 엑셀 파일에 저장하기\n",
    "- 대상 : http://quotes.toscrape.com/"
   ]
  },
  {
   "cell_type": "markdown",
   "metadata": {},
   "source": [
    "#### 크롤링하는 웹사이트 살펴보기"
   ]
  },
  {
   "cell_type": "markdown",
   "metadata": {},
   "source": [
    "- 사이트에서 life 태그 클릭한 후 명언의 (about) 클릭"
   ]
  },
  {
   "cell_type": "markdown",
   "metadata": {},
   "source": [
    "- 명언들 페이지의 하단 부분의 [Next]버튼, [Previeous]버튼"
   ]
  },
  {
   "cell_type": "markdown",
   "metadata": {},
   "source": [
    "- 살펴본 명언 웹사이트의 특징\n",
    "    - 명언들이 태그별로 모여 있음\n",
    "    - 한 페이지에 일정 수의 명언만 보이고 나머지는 다음(Next) 페이지를 통해 볼 수 있음"
   ]
  },
  {
   "cell_type": "markdown",
   "metadata": {},
   "source": [
    "#### 웹사이트 구조 확인 : 개발자도구(F12)"
   ]
  },
  {
   "cell_type": "markdown",
   "metadata": {},
   "source": [
    "#### 데이터 수집을 위한 절차"
   ]
  },
  {
   "cell_type": "markdown",
   "metadata": {},
   "source": [
    "- 1단계 : 페이지 구조 확인 및 명언/저자가 있는 위치를 파악\n",
    "- 2단계 : 웹페이지 불러오기(읽기) (url 요청-응답)\n",
    "- 3단계 : 각 태그에 맞는 명언/저자 추출"
   ]
  },
  {
   "cell_type": "markdown",
   "metadata": {},
   "source": [
    "**웹페이지 불러오기(읽기)**"
   ]
  },
  {
   "cell_type": "code",
   "execution_count": 2,
   "metadata": {},
   "outputs": [],
   "source": [
    "# 모듈 임포트\n",
    "import requests\n",
    "from urllib.request import urlopen\n",
    "from bs4 import BeautifulSoup"
   ]
  },
  {
   "cell_type": "code",
   "execution_count": 5,
   "metadata": {},
   "outputs": [],
   "source": [
    "url = 'https://quotes.toscrape.com/tag/life/'\n",
    "html = urlopen(url).read()\n",
    "soup = BeautifulSoup(html, 'html.parser')"
   ]
  },
  {
   "cell_type": "markdown",
   "metadata": {},
   "source": [
    "**각 태그에 맞는 명언/저자 추출(파싱)**"
   ]
  },
  {
   "cell_type": "code",
   "execution_count": 8,
   "metadata": {},
   "outputs": [
    {
     "name": "stdout",
     "output_type": "stream",
     "text": [
      "명언개수 : 10\n"
     ]
    }
   ],
   "source": [
    "# 명언과 저자가 있는 태그 : div.quote\n",
    "quotes = soup.find_all('div', {'class':'quote'})\n",
    "print(f'명언개수 : {len(quotes)}')"
   ]
  },
  {
   "cell_type": "code",
   "execution_count": 9,
   "metadata": {},
   "outputs": [
    {
     "data": {
      "text/plain": [
       "<div class=\"quote\" itemscope=\"\" itemtype=\"http://schema.org/CreativeWork\">\n",
       "<span class=\"text\" itemprop=\"text\">“There are only two ways to live your life. One is as though nothing is a miracle. The other is as though everything is a miracle.”</span>\n",
       "<span>by <small class=\"author\" itemprop=\"author\">Albert Einstein</small>\n",
       "<a href=\"/author/Albert-Einstein\">(about)</a>\n",
       "</span>\n",
       "<div class=\"tags\">\n",
       "            Tags:\n",
       "            <meta class=\"keywords\" content=\"inspirational,life,live,miracle,miracles\" itemprop=\"keywords\"/>\n",
       "<a class=\"tag\" href=\"/tag/inspirational/page/1/\">inspirational</a>\n",
       "<a class=\"tag\" href=\"/tag/life/page/1/\">life</a>\n",
       "<a class=\"tag\" href=\"/tag/live/page/1/\">live</a>\n",
       "<a class=\"tag\" href=\"/tag/miracle/page/1/\">miracle</a>\n",
       "<a class=\"tag\" href=\"/tag/miracles/page/1/\">miracles</a>\n",
       "</div>\n",
       "</div>"
      ]
     },
     "execution_count": 9,
     "metadata": {},
     "output_type": "execute_result"
    }
   ],
   "source": [
    "quotes[0]"
   ]
  },
  {
   "cell_type": "code",
   "execution_count": 46,
   "metadata": {},
   "outputs": [
    {
     "name": "stdout",
     "output_type": "stream",
     "text": [
      "저자: Albert Einstein\n",
      "명언: There are only two ways to live your life. One is as though nothing is a miracle. The other is as though everything is a miracle.\n"
     ]
    }
   ],
   "source": [
    "text = quotes[0].find('span',{'class':'text'}).text.strip('“').strip('”')\n",
    "author = quotes[0].find('small',{'class':'author'}).text\n",
    "print(f'저자: {author}\\n명언: {text}')"
   ]
  },
  {
   "cell_type": "code",
   "execution_count": 31,
   "metadata": {},
   "outputs": [],
   "source": [
    "# 명언리스트, 저자리스트로 따로 저장\n",
    "text_list, author_list = [], []\n",
    "for q in quotes:\n",
    "    text_list.append(q.find('span',{'class':'text'}).text)\n",
    "    author_list.append(q.find('small',{'class':'author'}).text)"
   ]
  },
  {
   "cell_type": "code",
   "execution_count": 50,
   "metadata": {},
   "outputs": [
    {
     "name": "stdout",
     "output_type": "stream",
     "text": [
      "명언리스트:\n",
      "[['Albert Einstein', 'There are only two ways to live your life. One is as though nothing is a miracle. The other is as though everything is a miracle.'], ['André Gide', 'It is better to be hated for what you are than to be loved for what you are not.'], ['Marilyn Monroe', \"This life is what you make it. No matter what, you're going to mess up sometimes, it's a universal truth. But the good part is you get to decide how you're going to mess it up. Girls will be your friends - they'll act like it anyway. But just remember, some come, some go. The ones that stay with you through everything - they're your true best friends. Don't let go of them. Also remember, sisters make the best friends in the world. As for lovers, well, they'll come and go too. And baby, I hate to say it, most of them - actually pretty much all of them are going to break your heart, but you can't give up because if you give up, you'll never find your soulmate. You'll never find that half who makes you whole and that goes for everything. Just because you fail once, doesn't mean you're gonna fail at everything. Keep trying, hold on, and always, always, always believe in yourself, because if you don't, then who will, sweetie? So keep your head high, keep your chin up, and most importantly, keep smiling, because life's a beautiful thing and there's so much to smile about.\"], ['Douglas Adams', 'I may not have gone where I intended to go, but I think I have ended up where I needed to be.'], ['Mark Twain', 'Good friends, good books, and a sleepy conscience: this is the ideal life.'], ['Allen Saunders', 'Life is what happens to us while we are making other plans.'], ['Dr. Seuss', 'Today you are You, that is truer than true. There is no one alive who is Youer than You.'], ['Albert Einstein', 'Life is like riding a bicycle. To keep your balance, you must keep moving.'], ['George Bernard Shaw', \"Life isn't about finding yourself. Life is about creating yourself.\"], ['Ralph Waldo Emerson', 'Finish each day and be done with it. You have done what you could. Some blunders and absurdities no doubt crept in; forget them as soon as you can. Tomorrow is a new day. You shall begin it serenely and with too high a spirit to be encumbered with your old nonsense.']]\n"
     ]
    }
   ],
   "source": [
    "# 명언내용과 저자를 2차원 리스트 형식으로 저장\n",
    "quote_list = []\n",
    "for q in quotes:\n",
    "    txt = q.find('span',{'class':'text'}).text.strip('“').strip('”')\n",
    "    author = q.find('small',{'class':'author'}).text\n",
    "    quote_list.append([author, txt])\n",
    "print(f'명언리스트:\\n{quote_list}')"
   ]
  },
  {
   "cell_type": "code",
   "execution_count": 52,
   "metadata": {},
   "outputs": [
    {
     "name": "stdout",
     "output_type": "stream",
     "text": [
      "저자리스트:\n",
      "['Albert Einstein', 'André Gide', 'Marilyn Monroe', 'Douglas Adams', 'Mark Twain', 'Allen Saunders', 'Dr. Seuss', 'Albert Einstein', 'George Bernard Shaw', 'Ralph Waldo Emerson'] \n",
      "\n",
      "명언리스트:\n",
      "['There are only two ways to live your life. One is as though nothing is a miracle. The other is as though everything is a miracle.', 'It is better to be hated for what you are than to be loved for what you are not.', \"This life is what you make it. No matter what, you're going to mess up sometimes, it's a universal truth. But the good part is you get to decide how you're going to mess it up. Girls will be your friends - they'll act like it anyway. But just remember, some come, some go. The ones that stay with you through everything - they're your true best friends. Don't let go of them. Also remember, sisters make the best friends in the world. As for lovers, well, they'll come and go too. And baby, I hate to say it, most of them - actually pretty much all of them are going to break your heart, but you can't give up because if you give up, you'll never find your soulmate. You'll never find that half who makes you whole and that goes for everything. Just because you fail once, doesn't mean you're gonna fail at everything. Keep trying, hold on, and always, always, always believe in yourself, because if you don't, then who will, sweetie? So keep your head high, keep your chin up, and most importantly, keep smiling, because life's a beautiful thing and there's so much to smile about.\", 'I may not have gone where I intended to go, but I think I have ended up where I needed to be.', 'Good friends, good books, and a sleepy conscience: this is the ideal life.', 'Life is what happens to us while we are making other plans.', 'Today you are You, that is truer than true. There is no one alive who is Youer than You.', 'Life is like riding a bicycle. To keep your balance, you must keep moving.', \"Life isn't about finding yourself. Life is about creating yourself.\", 'Finish each day and be done with it. You have done what you could. Some blunders and absurdities no doubt crept in; forget them as soon as you can. Tomorrow is a new day. You shall begin it serenely and with too high a spirit to be encumbered with your old nonsense.']\n"
     ]
    }
   ],
   "source": [
    "text_list = [q.find('span',{'class':'text'}).text.strip('“').strip('”') for q in quotes]\n",
    "author_list = [q.find('small',{'class':'author'}).text for q in quotes]\n",
    "\n",
    "print(f'저자리스트:\\n{author_list} \\n\\n명언리스트:\\n{text_list}')"
   ]
  },
  {
   "cell_type": "code",
   "execution_count": 53,
   "metadata": {},
   "outputs": [
    {
     "data": {
      "text/plain": [
       "{'저자': ['Albert Einstein',\n",
       "  'André Gide',\n",
       "  'Marilyn Monroe',\n",
       "  'Douglas Adams',\n",
       "  'Mark Twain',\n",
       "  'Allen Saunders',\n",
       "  'Dr. Seuss',\n",
       "  'Albert Einstein',\n",
       "  'George Bernard Shaw',\n",
       "  'Ralph Waldo Emerson'],\n",
       " '명언': ['There are only two ways to live your life. One is as though nothing is a miracle. The other is as though everything is a miracle.',\n",
       "  'It is better to be hated for what you are than to be loved for what you are not.',\n",
       "  \"This life is what you make it. No matter what, you're going to mess up sometimes, it's a universal truth. But the good part is you get to decide how you're going to mess it up. Girls will be your friends - they'll act like it anyway. But just remember, some come, some go. The ones that stay with you through everything - they're your true best friends. Don't let go of them. Also remember, sisters make the best friends in the world. As for lovers, well, they'll come and go too. And baby, I hate to say it, most of them - actually pretty much all of them are going to break your heart, but you can't give up because if you give up, you'll never find your soulmate. You'll never find that half who makes you whole and that goes for everything. Just because you fail once, doesn't mean you're gonna fail at everything. Keep trying, hold on, and always, always, always believe in yourself, because if you don't, then who will, sweetie? So keep your head high, keep your chin up, and most importantly, keep smiling, because life's a beautiful thing and there's so much to smile about.\",\n",
       "  'I may not have gone where I intended to go, but I think I have ended up where I needed to be.',\n",
       "  'Good friends, good books, and a sleepy conscience: this is the ideal life.',\n",
       "  'Life is what happens to us while we are making other plans.',\n",
       "  'Today you are You, that is truer than true. There is no one alive who is Youer than You.',\n",
       "  'Life is like riding a bicycle. To keep your balance, you must keep moving.',\n",
       "  \"Life isn't about finding yourself. Life is about creating yourself.\",\n",
       "  'Finish each day and be done with it. You have done what you could. Some blunders and absurdities no doubt crept in; forget them as soon as you can. Tomorrow is a new day. You shall begin it serenely and with too high a spirit to be encumbered with your old nonsense.']}"
      ]
     },
     "execution_count": 53,
     "metadata": {},
     "output_type": "execute_result"
    }
   ],
   "source": [
    "# 명언내용리스트와 저자리스트를 갖는 딕셔너리\n",
    "quot_dic = {'저자': author_list, '명언':text_list}\n",
    "quot_dic"
   ]
  },
  {
   "cell_type": "markdown",
   "metadata": {},
   "source": [
    "#### 명언과 저자를 추출하여 데이터프레임으로 저장하기"
   ]
  },
  {
   "cell_type": "code",
   "execution_count": 35,
   "metadata": {},
   "outputs": [
    {
     "name": "stdout",
     "output_type": "stream",
     "text": [
      "Collecting pandas\n",
      "  Downloading pandas-2.2.3-cp312-cp312-win_amd64.whl.metadata (19 kB)\n",
      "Collecting numpy>=1.26.0 (from pandas)\n",
      "  Downloading numpy-2.2.4-cp312-cp312-win_amd64.whl.metadata (60 kB)\n",
      "Requirement already satisfied: python-dateutil>=2.8.2 in c:\\users\\acorn1\\miniconda3\\lib\\site-packages (from pandas) (2.9.0.post0)\n",
      "Collecting pytz>=2020.1 (from pandas)\n",
      "  Downloading pytz-2025.2-py2.py3-none-any.whl.metadata (22 kB)\n",
      "Collecting tzdata>=2022.7 (from pandas)\n",
      "  Downloading tzdata-2025.2-py2.py3-none-any.whl.metadata (1.4 kB)\n",
      "Requirement already satisfied: six>=1.5 in c:\\users\\acorn1\\miniconda3\\lib\\site-packages (from python-dateutil>=2.8.2->pandas) (1.16.0)\n",
      "Downloading pandas-2.2.3-cp312-cp312-win_amd64.whl (11.5 MB)\n",
      "   ---------------------------------------- 0.0/11.5 MB ? eta -:--:--\n",
      "   ------------------------------ --------- 8.7/11.5 MB 44.9 MB/s eta 0:00:01\n",
      "   ---------------------------------------- 11.5/11.5 MB 45.0 MB/s eta 0:00:00\n",
      "Downloading numpy-2.2.4-cp312-cp312-win_amd64.whl (12.6 MB)\n",
      "   ---------------------------------------- 0.0/12.6 MB ? eta -:--:--\n",
      "   ---------------------------------------  12.6/12.6 MB 78.5 MB/s eta 0:00:01\n",
      "   ---------------------------------------- 12.6/12.6 MB 60.7 MB/s eta 0:00:00\n",
      "Downloading pytz-2025.2-py2.py3-none-any.whl (509 kB)\n",
      "Downloading tzdata-2025.2-py2.py3-none-any.whl (347 kB)\n",
      "Installing collected packages: pytz, tzdata, numpy, pandas\n",
      "Successfully installed numpy-2.2.4 pandas-2.2.3 pytz-2025.2 tzdata-2025.2\n"
     ]
    }
   ],
   "source": [
    "# pandas 설치\n",
    "!pip install pandas"
   ]
  },
  {
   "cell_type": "code",
   "execution_count": 37,
   "metadata": {},
   "outputs": [],
   "source": [
    "import pandas as pd"
   ]
  },
  {
   "cell_type": "code",
   "execution_count": 54,
   "metadata": {},
   "outputs": [
    {
     "data": {
      "text/html": [
       "<div>\n",
       "<style scoped>\n",
       "    .dataframe tbody tr th:only-of-type {\n",
       "        vertical-align: middle;\n",
       "    }\n",
       "\n",
       "    .dataframe tbody tr th {\n",
       "        vertical-align: top;\n",
       "    }\n",
       "\n",
       "    .dataframe thead th {\n",
       "        text-align: right;\n",
       "    }\n",
       "</style>\n",
       "<table border=\"1\" class=\"dataframe\">\n",
       "  <thead>\n",
       "    <tr style=\"text-align: right;\">\n",
       "      <th></th>\n",
       "      <th>저자</th>\n",
       "      <th>명언</th>\n",
       "    </tr>\n",
       "  </thead>\n",
       "  <tbody>\n",
       "    <tr>\n",
       "      <th>0</th>\n",
       "      <td>Albert Einstein</td>\n",
       "      <td>There are only two ways to live your life. One...</td>\n",
       "    </tr>\n",
       "    <tr>\n",
       "      <th>1</th>\n",
       "      <td>André Gide</td>\n",
       "      <td>It is better to be hated for what you are than...</td>\n",
       "    </tr>\n",
       "    <tr>\n",
       "      <th>2</th>\n",
       "      <td>Marilyn Monroe</td>\n",
       "      <td>This life is what you make it. No matter what,...</td>\n",
       "    </tr>\n",
       "    <tr>\n",
       "      <th>3</th>\n",
       "      <td>Douglas Adams</td>\n",
       "      <td>I may not have gone where I intended to go, bu...</td>\n",
       "    </tr>\n",
       "    <tr>\n",
       "      <th>4</th>\n",
       "      <td>Mark Twain</td>\n",
       "      <td>Good friends, good books, and a sleepy conscie...</td>\n",
       "    </tr>\n",
       "    <tr>\n",
       "      <th>5</th>\n",
       "      <td>Allen Saunders</td>\n",
       "      <td>Life is what happens to us while we are making...</td>\n",
       "    </tr>\n",
       "    <tr>\n",
       "      <th>6</th>\n",
       "      <td>Dr. Seuss</td>\n",
       "      <td>Today you are You, that is truer than true. Th...</td>\n",
       "    </tr>\n",
       "    <tr>\n",
       "      <th>7</th>\n",
       "      <td>Albert Einstein</td>\n",
       "      <td>Life is like riding a bicycle. To keep your ba...</td>\n",
       "    </tr>\n",
       "    <tr>\n",
       "      <th>8</th>\n",
       "      <td>George Bernard Shaw</td>\n",
       "      <td>Life isn't about finding yourself. Life is abo...</td>\n",
       "    </tr>\n",
       "    <tr>\n",
       "      <th>9</th>\n",
       "      <td>Ralph Waldo Emerson</td>\n",
       "      <td>Finish each day and be done with it. You have ...</td>\n",
       "    </tr>\n",
       "  </tbody>\n",
       "</table>\n",
       "</div>"
      ],
      "text/plain": [
       "                    저자                                                 명언\n",
       "0      Albert Einstein  There are only two ways to live your life. One...\n",
       "1           André Gide  It is better to be hated for what you are than...\n",
       "2       Marilyn Monroe  This life is what you make it. No matter what,...\n",
       "3        Douglas Adams  I may not have gone where I intended to go, bu...\n",
       "4           Mark Twain  Good friends, good books, and a sleepy conscie...\n",
       "5       Allen Saunders  Life is what happens to us while we are making...\n",
       "6            Dr. Seuss  Today you are You, that is truer than true. Th...\n",
       "7      Albert Einstein  Life is like riding a bicycle. To keep your ba...\n",
       "8  George Bernard Shaw  Life isn't about finding yourself. Life is abo...\n",
       "9  Ralph Waldo Emerson  Finish each day and be done with it. You have ..."
      ]
     },
     "execution_count": 54,
     "metadata": {},
     "output_type": "execute_result"
    }
   ],
   "source": [
    "df = pd.DataFrame(data=quot_dic)\n",
    "df"
   ]
  },
  {
   "cell_type": "code",
   "execution_count": 55,
   "metadata": {},
   "outputs": [
    {
     "data": {
      "text/html": [
       "<div>\n",
       "<style scoped>\n",
       "    .dataframe tbody tr th:only-of-type {\n",
       "        vertical-align: middle;\n",
       "    }\n",
       "\n",
       "    .dataframe tbody tr th {\n",
       "        vertical-align: top;\n",
       "    }\n",
       "\n",
       "    .dataframe thead th {\n",
       "        text-align: right;\n",
       "    }\n",
       "</style>\n",
       "<table border=\"1\" class=\"dataframe\">\n",
       "  <thead>\n",
       "    <tr style=\"text-align: right;\">\n",
       "      <th></th>\n",
       "      <th>author</th>\n",
       "      <th>text</th>\n",
       "    </tr>\n",
       "  </thead>\n",
       "  <tbody>\n",
       "    <tr>\n",
       "      <th>0</th>\n",
       "      <td>Albert Einstein</td>\n",
       "      <td>There are only two ways to live your life. One...</td>\n",
       "    </tr>\n",
       "    <tr>\n",
       "      <th>1</th>\n",
       "      <td>André Gide</td>\n",
       "      <td>It is better to be hated for what you are than...</td>\n",
       "    </tr>\n",
       "    <tr>\n",
       "      <th>2</th>\n",
       "      <td>Marilyn Monroe</td>\n",
       "      <td>This life is what you make it. No matter what,...</td>\n",
       "    </tr>\n",
       "    <tr>\n",
       "      <th>3</th>\n",
       "      <td>Douglas Adams</td>\n",
       "      <td>I may not have gone where I intended to go, bu...</td>\n",
       "    </tr>\n",
       "    <tr>\n",
       "      <th>4</th>\n",
       "      <td>Mark Twain</td>\n",
       "      <td>Good friends, good books, and a sleepy conscie...</td>\n",
       "    </tr>\n",
       "    <tr>\n",
       "      <th>5</th>\n",
       "      <td>Allen Saunders</td>\n",
       "      <td>Life is what happens to us while we are making...</td>\n",
       "    </tr>\n",
       "    <tr>\n",
       "      <th>6</th>\n",
       "      <td>Dr. Seuss</td>\n",
       "      <td>Today you are You, that is truer than true. Th...</td>\n",
       "    </tr>\n",
       "    <tr>\n",
       "      <th>7</th>\n",
       "      <td>Albert Einstein</td>\n",
       "      <td>Life is like riding a bicycle. To keep your ba...</td>\n",
       "    </tr>\n",
       "    <tr>\n",
       "      <th>8</th>\n",
       "      <td>George Bernard Shaw</td>\n",
       "      <td>Life isn't about finding yourself. Life is abo...</td>\n",
       "    </tr>\n",
       "    <tr>\n",
       "      <th>9</th>\n",
       "      <td>Ralph Waldo Emerson</td>\n",
       "      <td>Finish each day and be done with it. You have ...</td>\n",
       "    </tr>\n",
       "  </tbody>\n",
       "</table>\n",
       "</div>"
      ],
      "text/plain": [
       "                author                                               text\n",
       "0      Albert Einstein  There are only two ways to live your life. One...\n",
       "1           André Gide  It is better to be hated for what you are than...\n",
       "2       Marilyn Monroe  This life is what you make it. No matter what,...\n",
       "3        Douglas Adams  I may not have gone where I intended to go, bu...\n",
       "4           Mark Twain  Good friends, good books, and a sleepy conscie...\n",
       "5       Allen Saunders  Life is what happens to us while we are making...\n",
       "6            Dr. Seuss  Today you are You, that is truer than true. Th...\n",
       "7      Albert Einstein  Life is like riding a bicycle. To keep your ba...\n",
       "8  George Bernard Shaw  Life isn't about finding yourself. Life is abo...\n",
       "9  Ralph Waldo Emerson  Finish each day and be done with it. You have ..."
      ]
     },
     "execution_count": 55,
     "metadata": {},
     "output_type": "execute_result"
    }
   ],
   "source": [
    "df = pd.DataFrame(data=quote_list, columns=['author', 'text'])\n",
    "df"
   ]
  },
  {
   "cell_type": "code",
   "execution_count": 57,
   "metadata": {},
   "outputs": [],
   "source": [
    "df.to_csv('crawl_data/명언 목록.csv')"
   ]
  },
  {
   "cell_type": "markdown",
   "metadata": {},
   "source": [
    "----"
   ]
  }
 ],
 "metadata": {
  "kernelspec": {
   "display_name": "Python 3 (ipykernel)",
   "language": "python",
   "name": "python3"
  },
  "language_info": {
   "codemirror_mode": {
    "name": "ipython",
    "version": 3
   },
   "file_extension": ".py",
   "mimetype": "text/x-python",
   "name": "python",
   "nbconvert_exporter": "python",
   "pygments_lexer": "ipython3",
   "version": "3.12.9"
  }
 },
 "nbformat": 4,
 "nbformat_minor": 4
}
