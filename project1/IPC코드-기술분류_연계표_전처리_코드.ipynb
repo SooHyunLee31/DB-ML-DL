{
 "cells": [
  {
   "cell_type": "code",
   "execution_count": 1,
   "id": "83b6795f-4650-48d9-9c9d-3e5b29ddfcc2",
   "metadata": {},
   "outputs": [],
   "source": [
    "import numpy as np\n",
    "import pandas as pd\n",
    "from PIL import Image\n",
    "import matplotlib.pyplot as plt\n",
    "import seaborn as sns\n",
    "from collections import Counter\n",
    "from wordcloud import WordCloud\n",
    "from konlpy.tag import Okt\n",
    "from collections import defaultdict"
   ]
  },
  {
   "cell_type": "code",
   "execution_count": 3,
   "id": "741c80f4-514d-49d9-83fc-849c84a6e908",
   "metadata": {},
   "outputs": [],
   "source": [
    "# 국가과학기술표준분류-특허분류(IPC_CPC)_연계표 파일 불러오기\n",
    "df_k = pd.read_excel('data/국가과학기술표준분류-특허분류(IPC_CPC)_연계표.xlsx')"
   ]
  },
  {
   "cell_type": "code",
   "execution_count": 4,
   "id": "a294dbe8-b447-42b0-9a4b-38a43d929d75",
   "metadata": {},
   "outputs": [],
   "source": [
    "# 연계표 전처리 - 중분류(기술분류), IPC 분류 칼럼만 남기기\n",
    "df_k = df_k[['중분류', '특허코드(IPC)\\n서브클래스']]\n",
    "df_k['IPC분류'] = df_k[['특허코드(IPC)\\n서브클래스']]\n",
    "df_k.drop(columns='특허코드(IPC)\\n서브클래스', inplace=True)\n",
    "df_k = df_k.groupby('IPC분류')['중분류'].agg(lambda x: x.mode()[0]).reset_index()\n",
    "df_k['기술분류'] = df_k['중분류'].str[5:]\n",
    "df_k.drop(columns='중분류', inplace=True)"
   ]
  },
  {
   "cell_type": "code",
   "execution_count": null,
   "id": "bdb7b57a-36f1-4d06-be27-be7c78bc0e36",
   "metadata": {},
   "outputs": [],
   "source": [
    "# 데이터프레임을 엑셀 파일로 저장\n",
    "df_k.to_excel('data/IPC기술분류.xlsx', index=False)"
   ]
  },
  {
   "cell_type": "code",
   "execution_count": null,
   "id": "fdfbe24d-7e51-4e8a-aae6-f3b6c008f5af",
   "metadata": {},
   "outputs": [],
   "source": [
    "# 파일 불러오기\n",
    "df_k = pd.read_excel('data/IPC기술분류_2.xlsx')"
   ]
  },
  {
   "cell_type": "code",
   "execution_count": null,
   "id": "76db14c8-9f3c-4b49-ae92-2241d1944bef",
   "metadata": {},
   "outputs": [],
   "source": [
    "# 원본 데이터프레임에 IPC코드를 기준으로 기술분류 열 새로 추가하고 csv파일로 저장하는 함수\n",
    "def make_file(name):\n",
    "    df = pd.read_csv(f'data/kpris/{name}.csv')\n",
    "    df.drop(columns='기술분류', inplace=True)\n",
    "    df = pd.merge(df, df_k[['IPC분류', '기술분류']], on='IPC분류', how='left')\n",
    "    df['기술분류'] = df['기술분류'].fillna('기타')\n",
    "    df.to_csv(f'data/{name}.csv', index=False)"
   ]
  },
  {
   "cell_type": "code",
   "execution_count": null,
   "id": "46df9f99-7ce5-4d63-aeb7-2cb818aaf07e",
   "metadata": {},
   "outputs": [],
   "source": [
    "# 파일 이름 리스트\n",
    "n_list = 'HD현대인프라코어 KAI LIG넥스원 SK오션플랜트 STX엔진 풍산 한화시스템 한화에어로스페이스 현대로템 현대위아 현대트랜시스'.split(' ')"
   ]
  },
  {
   "cell_type": "code",
   "execution_count": null,
   "id": "d18f954e-c630-414d-b782-9610576914aa",
   "metadata": {},
   "outputs": [],
   "source": [
    "# 모든 파일을 데이터 프레임으로 불러와 칼럼 추가후 다시 저장\n",
    "for name in o_list:\n",
    "    make_file2(name)"
   ]
  },
  {
   "cell_type": "code",
   "execution_count": null,
   "id": "0cc16a49-3a18-4629-be79-b445eb18f88c",
   "metadata": {},
   "outputs": [],
   "source": []
  }
 ],
 "metadata": {
  "kernelspec": {
   "display_name": "Python 3 (ipykernel)",
   "language": "python",
   "name": "python3"
  },
  "language_info": {
   "codemirror_mode": {
    "name": "ipython",
    "version": 3
   },
   "file_extension": ".py",
   "mimetype": "text/x-python",
   "name": "python",
   "nbconvert_exporter": "python",
   "pygments_lexer": "ipython3",
   "version": "3.12.9"
  }
 },
 "nbformat": 4,
 "nbformat_minor": 5
}
