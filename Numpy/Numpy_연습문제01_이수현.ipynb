{
 "cells": [
  {
   "cell_type": "markdown",
   "id": "75a2f0d6",
   "metadata": {},
   "source": [
    "## Numpy 연습문제1"
   ]
  },
  {
   "cell_type": "markdown",
   "id": "f5ab92e9",
   "metadata": {},
   "source": [
    "#### 1. np이름으로 numpy 패키지 가져오기"
   ]
  },
  {
   "cell_type": "code",
   "execution_count": 1,
   "id": "2da7c108",
   "metadata": {},
   "outputs": [],
   "source": [
    "import numpy as np"
   ]
  },
  {
   "cell_type": "markdown",
   "id": "7455d8a7",
   "metadata": {},
   "source": [
    "#### 2. numpy 버전 출력하기"
   ]
  },
  {
   "cell_type": "code",
   "execution_count": 2,
   "id": "82df5a56",
   "metadata": {},
   "outputs": [
    {
     "data": {
      "text/plain": [
       "'2.2.4'"
      ]
     },
     "execution_count": 2,
     "metadata": {},
     "output_type": "execute_result"
    }
   ],
   "source": [
    "np.__version__"
   ]
  },
  {
   "cell_type": "markdown",
   "id": "411f7038",
   "metadata": {},
   "source": [
    "#### 3. 모두 0의 값을 갖는 사이즈가 10인 벡터 생성하기"
   ]
  },
  {
   "cell_type": "code",
   "execution_count": 3,
   "id": "d8da97d6",
   "metadata": {},
   "outputs": [
    {
     "data": {
      "text/plain": [
       "array([0, 0, 0, 0, 0, 0, 0, 0, 0, 0])"
      ]
     },
     "execution_count": 3,
     "metadata": {},
     "output_type": "execute_result"
    }
   ],
   "source": [
    "np.zeros(10, dtype=int)"
   ]
  },
  {
   "cell_type": "markdown",
   "id": "ce6bc591",
   "metadata": {},
   "source": [
    "#### 4. 값 10~49를 갖는 벡터 생성하기"
   ]
  },
  {
   "cell_type": "code",
   "execution_count": 4,
   "id": "8187b84f",
   "metadata": {},
   "outputs": [
    {
     "data": {
      "text/plain": [
       "array([10, 11, 12, 13, 14, 15, 16, 17, 18, 19, 20, 21, 22, 23, 24, 25, 26,\n",
       "       27, 28, 29, 30, 31, 32, 33, 34, 35, 36, 37, 38, 39, 40, 41, 42, 43,\n",
       "       44, 45, 46, 47, 48, 49])"
      ]
     },
     "execution_count": 4,
     "metadata": {},
     "output_type": "execute_result"
    }
   ],
   "source": [
    "np.arange(10,50)"
   ]
  },
  {
   "cell_type": "markdown",
   "id": "b2f84df3",
   "metadata": {},
   "source": [
    "#### 5. 0~8 사이의 정수 값을 3X3 크기로 갖는 행렬 생성하기 "
   ]
  },
  {
   "cell_type": "code",
   "execution_count": 4,
   "id": "d4147c05",
   "metadata": {},
   "outputs": [
    {
     "data": {
      "text/plain": [
       "array([[0, 1, 2],\n",
       "       [3, 4, 5],\n",
       "       [6, 7, 8]])"
      ]
     },
     "execution_count": 4,
     "metadata": {},
     "output_type": "execute_result"
    }
   ],
   "source": [
    "np.arange(9).reshape(3,3)"
   ]
  },
  {
   "cell_type": "markdown",
   "id": "05ced12a",
   "metadata": {},
   "source": [
    "#### 6. 실수 난수를 3X3X3의 크기로 갖는 배열 생성하기"
   ]
  },
  {
   "cell_type": "code",
   "execution_count": 7,
   "id": "aa79f4cc",
   "metadata": {},
   "outputs": [
    {
     "data": {
      "text/plain": [
       "array([[[0.42612723, 0.83367487, 0.20530785],\n",
       "        [0.73117096, 0.72273679, 0.37493263],\n",
       "        [0.3989756 , 0.28627556, 0.52995699]],\n",
       "\n",
       "       [[0.39057906, 0.75552881, 0.55129072],\n",
       "        [0.78217392, 0.50292889, 0.97089236],\n",
       "        [0.36643383, 0.11197918, 0.6563597 ]],\n",
       "\n",
       "       [[0.30206676, 0.68964243, 0.2015672 ],\n",
       "        [0.82857284, 0.93345655, 0.16021727],\n",
       "        [0.52515804, 0.45723715, 0.42993155]]])"
      ]
     },
     "execution_count": 7,
     "metadata": {},
     "output_type": "execute_result"
    }
   ],
   "source": [
    "np.random.rand(3,3,3)"
   ]
  }
 ],
 "metadata": {
  "kernelspec": {
   "display_name": "Python 3 (ipykernel)",
   "language": "python",
   "name": "python3"
  },
  "language_info": {
   "codemirror_mode": {
    "name": "ipython",
    "version": 3
   },
   "file_extension": ".py",
   "mimetype": "text/x-python",
   "name": "python",
   "nbconvert_exporter": "python",
   "pygments_lexer": "ipython3",
   "version": "3.12.9"
  }
 },
 "nbformat": 4,
 "nbformat_minor": 5
}
