{
 "cells": [
  {
   "cell_type": "markdown",
   "id": "035433a4",
   "metadata": {},
   "source": [
    "### Numpy 연습문제3"
   ]
  },
  {
   "cell_type": "code",
   "execution_count": 1,
   "id": "dc8e17f9",
   "metadata": {},
   "outputs": [],
   "source": [
    "import numpy as np"
   ]
  },
  {
   "cell_type": "markdown",
   "id": "ab73396f",
   "metadata": {},
   "source": [
    "### 연습문제. 마스크 인덱싱"
   ]
  },
  {
   "cell_type": "code",
   "execution_count": 2,
   "id": "ce0dd3ac",
   "metadata": {},
   "outputs": [],
   "source": [
    "names = np.array(['Beomwoo','Beomwoo','Kim','Joan','Lee','Beomwoo',\n",
    "                  'Park','Beomwoo'])\n",
    "data = np.random.randn(8,4)  # 표준정규분포난수"
   ]
  },
  {
   "cell_type": "code",
   "execution_count": 3,
   "id": "719932ad",
   "metadata": {
    "scrolled": true
   },
   "outputs": [
    {
     "data": {
      "text/plain": [
       "array([[ 0.88991202, -0.82122873, -1.69926895, -1.59322334],\n",
       "       [-1.95861691,  1.7561287 ,  1.7460879 , -1.54313157],\n",
       "       [ 0.46845382, -0.56811188, -0.38114702,  1.63941818],\n",
       "       [-2.72704556,  0.18998193,  1.18380743,  1.04611969],\n",
       "       [-0.37483315, -0.39112471, -0.0493193 , -0.03187678],\n",
       "       [-0.34693989, -1.00278447, -0.05098577, -0.47282007],\n",
       "       [-0.15867397, -0.35226966, -1.073652  ,  0.69694457],\n",
       "       [ 1.47488813, -0.07063946,  1.14670875, -1.56392331]])"
      ]
     },
     "execution_count": 3,
     "metadata": {},
     "output_type": "execute_result"
    }
   ],
   "source": [
    "data"
   ]
  },
  {
   "cell_type": "markdown",
   "id": "d2f00f67",
   "metadata": {},
   "source": [
    "#### 문제1. data array에서 0번째 열이 0보다 작은 행 데이터 가져오기"
   ]
  },
  {
   "cell_type": "code",
   "execution_count": 7,
   "id": "f8cb2ff0",
   "metadata": {},
   "outputs": [
    {
     "data": {
      "text/plain": [
       "array([[-1.95861691,  1.7561287 ,  1.7460879 , -1.54313157],\n",
       "       [-2.72704556,  0.18998193,  1.18380743,  1.04611969],\n",
       "       [-0.37483315, -0.39112471, -0.0493193 , -0.03187678],\n",
       "       [-0.34693989, -1.00278447, -0.05098577, -0.47282007],\n",
       "       [-0.15867397, -0.35226966, -1.073652  ,  0.69694457]])"
      ]
     },
     "execution_count": 7,
     "metadata": {},
     "output_type": "execute_result"
    }
   ],
   "source": [
    "mask = data[:, 0] < 0\n",
    "data[mask]\n",
    "# data[mask,:]"
   ]
  },
  {
   "cell_type": "code",
   "execution_count": null,
   "id": "10848fe2",
   "metadata": {},
   "outputs": [],
   "source": []
  },
  {
   "cell_type": "code",
   "execution_count": null,
   "id": "26bfe3a2",
   "metadata": {},
   "outputs": [],
   "source": []
  },
  {
   "cell_type": "markdown",
   "id": "8dee5f6b",
   "metadata": {},
   "source": [
    "#### 문제2. data array에서 0번째 열이 0보다 작은 행의 2, 3번째 열 데이터 가져오기"
   ]
  },
  {
   "cell_type": "code",
   "execution_count": 8,
   "id": "1aafed28",
   "metadata": {},
   "outputs": [
    {
     "data": {
      "text/plain": [
       "array([[ 1.7460879 , -1.54313157],\n",
       "       [ 1.18380743,  1.04611969],\n",
       "       [-0.0493193 , -0.03187678],\n",
       "       [-0.05098577, -0.47282007],\n",
       "       [-1.073652  ,  0.69694457]])"
      ]
     },
     "execution_count": 8,
     "metadata": {},
     "output_type": "execute_result"
    }
   ],
   "source": [
    "mask = data[:, 0] < 0\n",
    "data[mask, 2:4]"
   ]
  },
  {
   "cell_type": "code",
   "execution_count": null,
   "id": "a7468884",
   "metadata": {
    "scrolled": true
   },
   "outputs": [],
   "source": []
  },
  {
   "cell_type": "markdown",
   "id": "5cc888e2",
   "metadata": {},
   "source": [
    "----------------------------------------------"
   ]
  },
  {
   "cell_type": "markdown",
   "id": "2872c994",
   "metadata": {},
   "source": [
    "### 연습문제: 정렬"
   ]
  },
  {
   "cell_type": "code",
   "execution_count": 9,
   "id": "36ba6d67",
   "metadata": {},
   "outputs": [],
   "source": [
    "name_array = np.array(['John', 'Mike', 'Sarah', 'Kate', 'Samuel'])\n",
    "score_array = np.array([78, 95, 84, 98, 88])"
   ]
  },
  {
   "cell_type": "markdown",
   "id": "726dbc9a",
   "metadata": {},
   "source": [
    "#### 문제1. 위 행렬에서 성적의 오름차순으로 학생의 이름을 출력하시오."
   ]
  },
  {
   "cell_type": "code",
   "execution_count": 10,
   "id": "a5634d57",
   "metadata": {},
   "outputs": [
    {
     "data": {
      "text/plain": [
       "array([0, 2, 4, 1, 3])"
      ]
     },
     "execution_count": 10,
     "metadata": {},
     "output_type": "execute_result"
    }
   ],
   "source": [
    "mask = np.argsort(score_array)\n",
    "mask"
   ]
  },
  {
   "cell_type": "code",
   "execution_count": 11,
   "id": "2a5a0d42",
   "metadata": {},
   "outputs": [
    {
     "data": {
      "text/plain": [
       "array(['John', 'Sarah', 'Samuel', 'Mike', 'Kate'], dtype='<U6')"
      ]
     },
     "execution_count": 11,
     "metadata": {},
     "output_type": "execute_result"
    }
   ],
   "source": [
    "name_array[mask]"
   ]
  },
  {
   "cell_type": "markdown",
   "id": "26f12f79",
   "metadata": {},
   "source": [
    "#### 문제2. 성적이 가장 좋은 사람의 이름을 출력하시오"
   ]
  },
  {
   "cell_type": "code",
   "execution_count": 12,
   "id": "e842b6f9",
   "metadata": {},
   "outputs": [
    {
     "data": {
      "text/plain": [
       "np.str_('Kate')"
      ]
     },
     "execution_count": 12,
     "metadata": {},
     "output_type": "execute_result"
    }
   ],
   "source": [
    "name_array[np.argmax(score_array)]"
   ]
  },
  {
   "cell_type": "code",
   "execution_count": null,
   "id": "333f7afc",
   "metadata": {},
   "outputs": [],
   "source": []
  },
  {
   "cell_type": "code",
   "execution_count": null,
   "id": "5d8636ec",
   "metadata": {},
   "outputs": [],
   "source": []
  }
 ],
 "metadata": {
  "kernelspec": {
   "display_name": "Python 3 (ipykernel)",
   "language": "python",
   "name": "python3"
  },
  "language_info": {
   "codemirror_mode": {
    "name": "ipython",
    "version": 3
   },
   "file_extension": ".py",
   "mimetype": "text/x-python",
   "name": "python",
   "nbconvert_exporter": "python",
   "pygments_lexer": "ipython3",
   "version": "3.12.9"
  }
 },
 "nbformat": 4,
 "nbformat_minor": 5
}
