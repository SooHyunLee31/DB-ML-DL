{
 "cells": [
  {
   "cell_type": "markdown",
   "metadata": {},
   "source": [
    "## Numpy 연습문제4 : 구조화 배열 "
   ]
  },
  {
   "cell_type": "code",
   "execution_count": 1,
   "metadata": {},
   "outputs": [],
   "source": [
    "import numpy as np"
   ]
  },
  {
   "cell_type": "markdown",
   "metadata": {},
   "source": [
    "### #1. 구조화 배열 생성하기"
   ]
  },
  {
   "cell_type": "markdown",
   "metadata": {},
   "source": [
    "#### 1. 다음 학생 데이터를 구조화 배열로 생성하시오.\n",
    "|이름|국어|영어|\n",
    "|------|---|---|\n",
    "|춘향|85|90|\n",
    "|방자|95|80|\n",
    "|몽룡|75|70|"
   ]
  },
  {
   "cell_type": "code",
   "execution_count": 3,
   "metadata": {},
   "outputs": [
    {
     "data": {
      "text/plain": [
       "array([('춘향', 85, 90), ('방자', 95, 80), ('몽룡', 75, 70)],\n",
       "      dtype=[('name', '<U10'), ('korean', '<i4'), ('english', '<i4')])"
      ]
     },
     "execution_count": 3,
     "metadata": {},
     "output_type": "execute_result"
    }
   ],
   "source": [
    "dtype = [('name', 'U10'), ('korean', 'i4'), ('english', 'i4')]\n",
    "students = np.array([('춘향', 85, 90),('방자', 95, 80), ('몽룡', 75, 70)], dtype=dtype)\n",
    "students"
   ]
  },
  {
   "cell_type": "markdown",
   "metadata": {},
   "source": [
    "#### 2. 영어 점수의 평균을 출력하시오."
   ]
  },
  {
   "cell_type": "code",
   "execution_count": 4,
   "metadata": {},
   "outputs": [
    {
     "data": {
      "text/plain": [
       "np.float64(80.0)"
      ]
     },
     "execution_count": 4,
     "metadata": {},
     "output_type": "execute_result"
    }
   ],
   "source": [
    "np.mean(students['english'])"
   ]
  },
  {
   "cell_type": "markdown",
   "metadata": {},
   "source": [
    "#### 3. 국어 점수가 80점 이상인 학생만 출력하시오."
   ]
  },
  {
   "cell_type": "code",
   "execution_count": 5,
   "metadata": {},
   "outputs": [
    {
     "data": {
      "text/plain": [
       "array([('춘향', 85, 90), ('방자', 95, 80)],\n",
       "      dtype=[('name', '<U10'), ('korean', '<i4'), ('english', '<i4')])"
      ]
     },
     "execution_count": 5,
     "metadata": {},
     "output_type": "execute_result"
    }
   ],
   "source": [
    "students[students['korean'] >= 80]"
   ]
  },
  {
   "cell_type": "markdown",
   "metadata": {},
   "source": [
    "### #2. 정렬 연습"
   ]
  },
  {
   "cell_type": "markdown",
   "metadata": {},
   "source": [
    "#### 1. 다음 자동차 정보에 대한 구조화 배열을 생성하시오.\n",
    "|모델|연식|배기량(cc)|\n",
    "|------|---|---|\n",
    "|Avante|2020|1500|\n",
    "|Sonata|2019|1800|\n",
    "|K5|2021|1700|\n",
    "|Morning|2018|1000|"
   ]
  },
  {
   "cell_type": "code",
   "execution_count": 6,
   "metadata": {},
   "outputs": [
    {
     "data": {
      "text/plain": [
       "array([('Avante', 2020, 1500), ('Sonata', 2019, 1800), ('K5', 2021, 1700),\n",
       "       ('Morning', 2018, 1000)],\n",
       "      dtype=[('model', '<U10'), ('year', '<i4'), ('cc', '<i4')])"
      ]
     },
     "execution_count": 6,
     "metadata": {},
     "output_type": "execute_result"
    }
   ],
   "source": [
    "dtype = [('model', 'U10'), ('year', 'i4'), ('cc', 'i4')]\n",
    "vehicles = np.array([('Avante', 2020, 1500),('Sonata', 2019, 1800), ('K5', 2021, 1700), ('Morning', 2018, 1000)], dtype=dtype)\n",
    "vehicles"
   ]
  },
  {
   "cell_type": "markdown",
   "metadata": {},
   "source": [
    "#### 2. 배기량이 1500이상인 차종만 출력하시오."
   ]
  },
  {
   "cell_type": "code",
   "execution_count": 8,
   "metadata": {},
   "outputs": [
    {
     "data": {
      "text/plain": [
       "array([('Avante', 2020, 1500), ('Sonata', 2019, 1800), ('K5', 2021, 1700)],\n",
       "      dtype=[('model', '<U10'), ('year', '<i4'), ('cc', '<i4')])"
      ]
     },
     "execution_count": 8,
     "metadata": {},
     "output_type": "execute_result"
    }
   ],
   "source": [
    "vehicles[vehicles['cc'] >= 1500]"
   ]
  },
  {
   "cell_type": "markdown",
   "metadata": {},
   "source": [
    "#### 3. 연식 기준 오름차순으로 정렬하시오."
   ]
  },
  {
   "cell_type": "code",
   "execution_count": 11,
   "metadata": {},
   "outputs": [
    {
     "data": {
      "text/plain": [
       "array([('Morning', 2018, 1000), ('Sonata', 2019, 1800),\n",
       "       ('Avante', 2020, 1500), ('K5', 2021, 1700)],\n",
       "      dtype=[('model', '<U10'), ('year', '<i4'), ('cc', '<i4')])"
      ]
     },
     "execution_count": 11,
     "metadata": {},
     "output_type": "execute_result"
    }
   ],
   "source": [
    "vehicles[np.argsort(vehicles['year'])]"
   ]
  },
  {
   "cell_type": "markdown",
   "metadata": {},
   "source": [
    "### #3. 필드 추가 연습1"
   ]
  },
  {
   "cell_type": "markdown",
   "metadata": {},
   "source": [
    "#### 1. 다음 직원 급여 정보에 대한 구조화 배열을 생성하시오.\n",
    "|이름|급여|\n",
    "|---|---|\n",
    "|춘향|3200|\n",
    "|방자|3000|\n",
    "|몽룡|5100|"
   ]
  },
  {
   "cell_type": "code",
   "execution_count": 12,
   "metadata": {},
   "outputs": [],
   "source": [
    "dtype = [('name', 'U10'), ('salary', 'i4')]\n",
    "employees = np.array([('춘향', 3200),('방자', 3000), ('몽룡', 5100)], dtype=dtype)"
   ]
  },
  {
   "cell_type": "markdown",
   "metadata": {},
   "source": [
    "#### 2. 급여의 10%를 세금으로 계산해 새로운 필드 tax를 추가한 배열을 생성하시오."
   ]
  },
  {
   "cell_type": "code",
   "execution_count": 14,
   "metadata": {},
   "outputs": [
    {
     "data": {
      "text/plain": [
       "array([('춘향', 3200, 320), ('방자', 3000, 300), ('몽룡', 5100, 510)],\n",
       "      dtype=[('name', '<U10'), ('salary', '<i4'), ('tax', '<i4')])"
      ]
     },
     "execution_count": 14,
     "metadata": {},
     "output_type": "execute_result"
    }
   ],
   "source": [
    "new_dtype = [('name', 'U10'), ('salary', 'i4'), ('tax', 'i4')]\n",
    "new_em = np.empty(len(employees), dtype=new_dtype)\n",
    "new_em['name'] = employees['name']\n",
    "new_em['salary'] = employees['salary']\n",
    "new_em['tax'] = employees['salary'] / 10\n",
    "new_em"
   ]
  },
  {
   "cell_type": "markdown",
   "metadata": {},
   "source": [
    "### #3. 필드 추가 연습2"
   ]
  },
  {
   "cell_type": "markdown",
   "metadata": {},
   "source": [
    "#### 1. 다음 재고 현황 데이터에 대한 구조화 배열을 생성하시오.\n",
    "|제품명|재고량|가격|\n",
    "|---|---|---|\n",
    "|키보드|10|20000|\n",
    "|마우스|5|15000|\n",
    "|모니터|3|150000|\n",
    "|웹캠|8|30000|"
   ]
  },
  {
   "cell_type": "code",
   "execution_count": 3,
   "metadata": {},
   "outputs": [
    {
     "data": {
      "text/plain": [
       "array([('키보드', 10,  20000), ('마우스',  5,  15000), ('모니터', 23, 150000),\n",
       "       ('웹캠',  8,  30000)],\n",
       "      dtype=[('name', '<U10'), ('quantity', '<i4'), ('price', '<i4')])"
      ]
     },
     "execution_count": 3,
     "metadata": {},
     "output_type": "execute_result"
    }
   ],
   "source": [
    "dtype = [('name', 'U10'), ('quantity', 'i4'), ('price', 'i4')]\n",
    "products = np.array([('키보드', 10, 20000),('마우스', 5, 15000), ('모니터', 23, 150000), ('웹캠', 8, 30000)], dtype=dtype)\n",
    "products"
   ]
  },
  {
   "cell_type": "markdown",
   "metadata": {},
   "source": [
    "#### 2. 재고 수량이 5이상인 상품만 출력하시오."
   ]
  },
  {
   "cell_type": "code",
   "execution_count": 4,
   "metadata": {},
   "outputs": [
    {
     "data": {
      "text/plain": [
       "array([('키보드', 10,  20000), ('마우스',  5,  15000), ('모니터', 23, 150000),\n",
       "       ('웹캠',  8,  30000)],\n",
       "      dtype=[('name', '<U10'), ('quantity', '<i4'), ('price', '<i4')])"
      ]
     },
     "execution_count": 4,
     "metadata": {},
     "output_type": "execute_result"
    }
   ],
   "source": [
    "products[products['quantity'] >= 5]"
   ]
  },
  {
   "cell_type": "markdown",
   "metadata": {},
   "source": [
    "#### 3. 총 재고 금액(quantity*price)을 계산하여 새로운 필드로 추가한 배열을 생성하시오."
   ]
  },
  {
   "cell_type": "code",
   "execution_count": 5,
   "metadata": {},
   "outputs": [
    {
     "data": {
      "text/plain": [
       "array([('키보드', 10,  20000,  200000), ('마우스',  5,  15000,   75000),\n",
       "       ('모니터', 23, 150000, 3450000), ('웹캠',  8,  30000,  240000)],\n",
       "      dtype=[('name', '<U10'), ('quantity', '<i4'), ('price', '<i4'), ('qp', '<i4')])"
      ]
     },
     "execution_count": 5,
     "metadata": {},
     "output_type": "execute_result"
    }
   ],
   "source": [
    "new_dtype = [('name', 'U10'), ('quantity', 'i4'), ('price', 'i4'), ('qp', 'i4')]\n",
    "new_prd = np.empty(len(products), dtype=new_dtype)\n",
    "new_prd['name'] = products['name']\n",
    "new_prd['quantity'] = products['quantity']\n",
    "new_prd['price'] = products['price']\n",
    "new_prd['qp'] = products['quantity'] * products['price']\n",
    "new_prd"
   ]
  },
  {
   "cell_type": "markdown",
   "metadata": {},
   "source": [
    "------"
   ]
  }
 ],
 "metadata": {
  "kernelspec": {
   "display_name": "Python 3 (ipykernel)",
   "language": "python",
   "name": "python3"
  },
  "language_info": {
   "codemirror_mode": {
    "name": "ipython",
    "version": 3
   },
   "file_extension": ".py",
   "mimetype": "text/x-python",
   "name": "python",
   "nbconvert_exporter": "python",
   "pygments_lexer": "ipython3",
   "version": "3.12.9"
  }
 },
 "nbformat": 4,
 "nbformat_minor": 4
}
